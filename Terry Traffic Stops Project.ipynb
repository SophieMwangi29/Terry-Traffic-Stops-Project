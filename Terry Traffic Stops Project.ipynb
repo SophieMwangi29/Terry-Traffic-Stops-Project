{
 "cells": [
  {
   "cell_type": "markdown",
   "metadata": {},
   "source": [
    "# Terry Traffic Stops Project"
   ]
  },
  {
   "cell_type": "markdown",
   "metadata": {},
   "source": [
    "In this project, We implore the OSEMN Data Science Process "
   ]
  },
  {
   "cell_type": "markdown",
   "metadata": {},
   "source": [
    "# 1. Obtain"
   ]
  },
  {
   "cell_type": "markdown",
   "metadata": {},
   "source": [
    "We first import all the data and packages needed "
   ]
  },
  {
   "cell_type": "code",
   "execution_count": 731,
   "metadata": {},
   "outputs": [],
   "source": [
    "import pandas as pd\n",
    "import numpy as np\n",
    "import matplotlib.pyplot as plt\n",
    "import seaborn as sns\n",
    "%matplotlib inline\n",
    "\n",
    "from sklearn.model_selection import train_test_split,cross_val_score\n",
    "from sklearn.preprocessing import OneHotEncoder\n",
    "from sklearn.metrics import accuracy_score,confusion_matrix,roc_curve, auc, f1_score, precision_score\n",
    "from sklearn.metrics import classification_report, confusion_matrix, plot_confusion_matrix\n",
    "\n",
    "from sklearn.linear_model import LogisticRegression\n",
    "from sklearn.ensemble import ExtraTreesClassifier,RandomForestClassifier\n",
    "from sklearn.tree import DecisionTreeClassifier \n",
    "from sklearn import preprocessing\n",
    "from sklearn.neighbors  import KNeighborsClassifier\n",
    "from sklearn.model_selection import GridSearchCV\n",
    "\n",
    "from imblearn.over_sampling import SMOTE  \n"
   ]
  },
  {
   "cell_type": "code",
   "execution_count": 669,
   "metadata": {},
   "outputs": [],
   "source": [
    "# Import data\n",
    "df = pd.read_csv('Terry_stops.csv')\n",
    "pd.set_option('display.max_columns',None)"
   ]
  },
  {
   "cell_type": "markdown",
   "metadata": {},
   "source": [
    "The data was sourced from Seattle Police Department "
   ]
  },
  {
   "cell_type": "markdown",
   "metadata": {},
   "source": [
    "### Stakeholder Requirement and Problem"
   ]
  },
  {
   "cell_type": "markdown",
   "metadata": {},
   "source": [
    "Our stakeholder is the Supreme Court of Ohio. This is to help them understand if the Terry V. Ohio case was ruled accordingly and to ensure that such cases presented to them do not violed the Fourth Amendment that states; \n",
    "\n",
    "The right of the people to be secure in their persons, houses, papers, and effects, against unreasonable searches and seizures, shall not be violated, and no warrants shall issue, but upon probable cause, supported by oath or affirmation, and particularly describing the place to be searched, and the persons or things to be seized.\n",
    "\n",
    "The inspiration to conduct this project was stemed from the event that caused Terry and his three friends to face 3 years imprisonment due to unreasonable searches and seizures and above all the need to protect the officer's safety incident to the investigation by the state."
   ]
  },
  {
   "cell_type": "markdown",
   "metadata": {},
   "source": [
    "# 2. Scrub"
   ]
  },
  {
   "cell_type": "markdown",
   "metadata": {},
   "source": [
    "This process involves pre-processing of the data imported"
   ]
  },
  {
   "cell_type": "code",
   "execution_count": 670,
   "metadata": {},
   "outputs": [
    {
     "data": {
      "text/html": [
       "<div>\n",
       "<style scoped>\n",
       "    .dataframe tbody tr th:only-of-type {\n",
       "        vertical-align: middle;\n",
       "    }\n",
       "\n",
       "    .dataframe tbody tr th {\n",
       "        vertical-align: top;\n",
       "    }\n",
       "\n",
       "    .dataframe thead th {\n",
       "        text-align: right;\n",
       "    }\n",
       "</style>\n",
       "<table border=\"1\" class=\"dataframe\">\n",
       "  <thead>\n",
       "    <tr style=\"text-align: right;\">\n",
       "      <th></th>\n",
       "      <th>Subject Age Group</th>\n",
       "      <th>Subject ID</th>\n",
       "      <th>GO / SC Num</th>\n",
       "      <th>Terry Stop ID</th>\n",
       "      <th>Stop Resolution</th>\n",
       "      <th>Weapon Type</th>\n",
       "      <th>Officer ID</th>\n",
       "      <th>Officer YOB</th>\n",
       "      <th>Officer Gender</th>\n",
       "      <th>Officer Race</th>\n",
       "      <th>Subject Perceived Race</th>\n",
       "      <th>Subject Perceived Gender</th>\n",
       "      <th>Reported Date</th>\n",
       "      <th>Reported Time</th>\n",
       "      <th>Initial Call Type</th>\n",
       "      <th>Final Call Type</th>\n",
       "      <th>Call Type</th>\n",
       "      <th>Officer Squad</th>\n",
       "      <th>Arrest Flag</th>\n",
       "      <th>Frisk Flag</th>\n",
       "      <th>Precinct</th>\n",
       "      <th>Sector</th>\n",
       "      <th>Beat</th>\n",
       "    </tr>\n",
       "  </thead>\n",
       "  <tbody>\n",
       "    <tr>\n",
       "      <th>0</th>\n",
       "      <td>-</td>\n",
       "      <td>-1</td>\n",
       "      <td>20140000120677</td>\n",
       "      <td>92317</td>\n",
       "      <td>Arrest</td>\n",
       "      <td>None</td>\n",
       "      <td>7500</td>\n",
       "      <td>1984</td>\n",
       "      <td>M</td>\n",
       "      <td>Black or African American</td>\n",
       "      <td>Asian</td>\n",
       "      <td>Male</td>\n",
       "      <td>2015-10-16T00:00:00Z</td>\n",
       "      <td>11:32:00.0000000</td>\n",
       "      <td>-</td>\n",
       "      <td>-</td>\n",
       "      <td>-</td>\n",
       "      <td>SOUTH PCT 1ST W - ROBERT</td>\n",
       "      <td>N</td>\n",
       "      <td>N</td>\n",
       "      <td>South</td>\n",
       "      <td>O</td>\n",
       "      <td>O2</td>\n",
       "    </tr>\n",
       "    <tr>\n",
       "      <th>1</th>\n",
       "      <td>-</td>\n",
       "      <td>-1</td>\n",
       "      <td>20150000001463</td>\n",
       "      <td>28806</td>\n",
       "      <td>Field Contact</td>\n",
       "      <td>None</td>\n",
       "      <td>5670</td>\n",
       "      <td>1965</td>\n",
       "      <td>M</td>\n",
       "      <td>White</td>\n",
       "      <td>-</td>\n",
       "      <td>-</td>\n",
       "      <td>2015-03-19T00:00:00Z</td>\n",
       "      <td>07:59:00.0000000</td>\n",
       "      <td>-</td>\n",
       "      <td>-</td>\n",
       "      <td>-</td>\n",
       "      <td>NaN</td>\n",
       "      <td>N</td>\n",
       "      <td>N</td>\n",
       "      <td>-</td>\n",
       "      <td>-</td>\n",
       "      <td>-</td>\n",
       "    </tr>\n",
       "    <tr>\n",
       "      <th>2</th>\n",
       "      <td>-</td>\n",
       "      <td>-1</td>\n",
       "      <td>20150000001516</td>\n",
       "      <td>29599</td>\n",
       "      <td>Field Contact</td>\n",
       "      <td>None</td>\n",
       "      <td>4844</td>\n",
       "      <td>1961</td>\n",
       "      <td>M</td>\n",
       "      <td>White</td>\n",
       "      <td>White</td>\n",
       "      <td>Male</td>\n",
       "      <td>2015-03-21T00:00:00Z</td>\n",
       "      <td>19:12:00.0000000</td>\n",
       "      <td>-</td>\n",
       "      <td>-</td>\n",
       "      <td>-</td>\n",
       "      <td>NaN</td>\n",
       "      <td>N</td>\n",
       "      <td>-</td>\n",
       "      <td>-</td>\n",
       "      <td>-</td>\n",
       "      <td>-</td>\n",
       "    </tr>\n",
       "    <tr>\n",
       "      <th>3</th>\n",
       "      <td>-</td>\n",
       "      <td>-1</td>\n",
       "      <td>20150000001670</td>\n",
       "      <td>32260</td>\n",
       "      <td>Field Contact</td>\n",
       "      <td>None</td>\n",
       "      <td>7539</td>\n",
       "      <td>1963</td>\n",
       "      <td>M</td>\n",
       "      <td>White</td>\n",
       "      <td>-</td>\n",
       "      <td>-</td>\n",
       "      <td>2015-04-01T00:00:00Z</td>\n",
       "      <td>04:55:00.0000000</td>\n",
       "      <td>-</td>\n",
       "      <td>-</td>\n",
       "      <td>-</td>\n",
       "      <td>NaN</td>\n",
       "      <td>N</td>\n",
       "      <td>N</td>\n",
       "      <td>-</td>\n",
       "      <td>-</td>\n",
       "      <td>-</td>\n",
       "    </tr>\n",
       "    <tr>\n",
       "      <th>4</th>\n",
       "      <td>-</td>\n",
       "      <td>-1</td>\n",
       "      <td>20150000001739</td>\n",
       "      <td>33155</td>\n",
       "      <td>Field Contact</td>\n",
       "      <td>None</td>\n",
       "      <td>6973</td>\n",
       "      <td>1977</td>\n",
       "      <td>M</td>\n",
       "      <td>White</td>\n",
       "      <td>Black or African American</td>\n",
       "      <td>Male</td>\n",
       "      <td>2015-04-03T00:00:00Z</td>\n",
       "      <td>00:41:00.0000000</td>\n",
       "      <td>-</td>\n",
       "      <td>-</td>\n",
       "      <td>-</td>\n",
       "      <td>NaN</td>\n",
       "      <td>N</td>\n",
       "      <td>N</td>\n",
       "      <td>-</td>\n",
       "      <td>-</td>\n",
       "      <td>-</td>\n",
       "    </tr>\n",
       "    <tr>\n",
       "      <th>5</th>\n",
       "      <td>-</td>\n",
       "      <td>-1</td>\n",
       "      <td>20150000001755</td>\n",
       "      <td>33571</td>\n",
       "      <td>Field Contact</td>\n",
       "      <td>None</td>\n",
       "      <td>7402</td>\n",
       "      <td>1973</td>\n",
       "      <td>M</td>\n",
       "      <td>White</td>\n",
       "      <td>Black or African American</td>\n",
       "      <td>Male</td>\n",
       "      <td>2015-04-05T00:00:00Z</td>\n",
       "      <td>23:46:00.0000000</td>\n",
       "      <td>-</td>\n",
       "      <td>-</td>\n",
       "      <td>-</td>\n",
       "      <td>NaN</td>\n",
       "      <td>N</td>\n",
       "      <td>N</td>\n",
       "      <td>-</td>\n",
       "      <td>-</td>\n",
       "      <td>-</td>\n",
       "    </tr>\n",
       "    <tr>\n",
       "      <th>6</th>\n",
       "      <td>-</td>\n",
       "      <td>-1</td>\n",
       "      <td>20150000002351</td>\n",
       "      <td>45252</td>\n",
       "      <td>Field Contact</td>\n",
       "      <td>None</td>\n",
       "      <td>7591</td>\n",
       "      <td>1985</td>\n",
       "      <td>M</td>\n",
       "      <td>Hispanic or Latino</td>\n",
       "      <td>Other</td>\n",
       "      <td>Female</td>\n",
       "      <td>2015-05-20T00:00:00Z</td>\n",
       "      <td>21:39:00.0000000</td>\n",
       "      <td>-</td>\n",
       "      <td>-</td>\n",
       "      <td>-</td>\n",
       "      <td>WEST PCT 3RD W - MARY</td>\n",
       "      <td>N</td>\n",
       "      <td>N</td>\n",
       "      <td>-</td>\n",
       "      <td>-</td>\n",
       "      <td>-</td>\n",
       "    </tr>\n",
       "    <tr>\n",
       "      <th>7</th>\n",
       "      <td>-</td>\n",
       "      <td>-1</td>\n",
       "      <td>20150000002363</td>\n",
       "      <td>45182</td>\n",
       "      <td>Field Contact</td>\n",
       "      <td>None</td>\n",
       "      <td>7591</td>\n",
       "      <td>1985</td>\n",
       "      <td>M</td>\n",
       "      <td>Hispanic or Latino</td>\n",
       "      <td>White</td>\n",
       "      <td>Male</td>\n",
       "      <td>2015-05-20T00:00:00Z</td>\n",
       "      <td>22:40:00.0000000</td>\n",
       "      <td>-</td>\n",
       "      <td>-</td>\n",
       "      <td>-</td>\n",
       "      <td>WEST PCT 3RD W - MARY</td>\n",
       "      <td>N</td>\n",
       "      <td>N</td>\n",
       "      <td>-</td>\n",
       "      <td>-</td>\n",
       "      <td>-</td>\n",
       "    </tr>\n",
       "    <tr>\n",
       "      <th>8</th>\n",
       "      <td>-</td>\n",
       "      <td>-1</td>\n",
       "      <td>20150000002392</td>\n",
       "      <td>45365</td>\n",
       "      <td>Field Contact</td>\n",
       "      <td>None</td>\n",
       "      <td>7560</td>\n",
       "      <td>1986</td>\n",
       "      <td>M</td>\n",
       "      <td>White</td>\n",
       "      <td>White</td>\n",
       "      <td>Female</td>\n",
       "      <td>2015-05-22T00:00:00Z</td>\n",
       "      <td>07:39:00.0000000</td>\n",
       "      <td>-</td>\n",
       "      <td>-</td>\n",
       "      <td>-</td>\n",
       "      <td>SOUTH PCT 1ST W - R/S RELIEF</td>\n",
       "      <td>N</td>\n",
       "      <td>N</td>\n",
       "      <td>East</td>\n",
       "      <td>E</td>\n",
       "      <td>E2</td>\n",
       "    </tr>\n",
       "    <tr>\n",
       "      <th>9</th>\n",
       "      <td>-</td>\n",
       "      <td>-1</td>\n",
       "      <td>20150000002451</td>\n",
       "      <td>46430</td>\n",
       "      <td>Field Contact</td>\n",
       "      <td>None</td>\n",
       "      <td>7591</td>\n",
       "      <td>1985</td>\n",
       "      <td>M</td>\n",
       "      <td>Hispanic or Latino</td>\n",
       "      <td>-</td>\n",
       "      <td>-</td>\n",
       "      <td>2015-05-25T00:00:00Z</td>\n",
       "      <td>01:06:00.0000000</td>\n",
       "      <td>-</td>\n",
       "      <td>-</td>\n",
       "      <td>-</td>\n",
       "      <td>WEST PCT 3RD W - MARY</td>\n",
       "      <td>N</td>\n",
       "      <td>N</td>\n",
       "      <td>-</td>\n",
       "      <td>-</td>\n",
       "      <td>-</td>\n",
       "    </tr>\n",
       "  </tbody>\n",
       "</table>\n",
       "</div>"
      ],
      "text/plain": [
       "  Subject Age Group  Subject ID     GO / SC Num  Terry Stop ID  \\\n",
       "0                 -          -1  20140000120677          92317   \n",
       "1                 -          -1  20150000001463          28806   \n",
       "2                 -          -1  20150000001516          29599   \n",
       "3                 -          -1  20150000001670          32260   \n",
       "4                 -          -1  20150000001739          33155   \n",
       "5                 -          -1  20150000001755          33571   \n",
       "6                 -          -1  20150000002351          45252   \n",
       "7                 -          -1  20150000002363          45182   \n",
       "8                 -          -1  20150000002392          45365   \n",
       "9                 -          -1  20150000002451          46430   \n",
       "\n",
       "  Stop Resolution Weapon Type Officer ID  Officer YOB Officer Gender  \\\n",
       "0          Arrest        None       7500         1984              M   \n",
       "1   Field Contact        None       5670         1965              M   \n",
       "2   Field Contact        None       4844         1961              M   \n",
       "3   Field Contact        None       7539         1963              M   \n",
       "4   Field Contact        None       6973         1977              M   \n",
       "5   Field Contact        None       7402         1973              M   \n",
       "6   Field Contact        None       7591         1985              M   \n",
       "7   Field Contact        None       7591         1985              M   \n",
       "8   Field Contact        None       7560         1986              M   \n",
       "9   Field Contact        None       7591         1985              M   \n",
       "\n",
       "                Officer Race     Subject Perceived Race  \\\n",
       "0  Black or African American                      Asian   \n",
       "1                      White                          -   \n",
       "2                      White                      White   \n",
       "3                      White                          -   \n",
       "4                      White  Black or African American   \n",
       "5                      White  Black or African American   \n",
       "6         Hispanic or Latino                      Other   \n",
       "7         Hispanic or Latino                      White   \n",
       "8                      White                      White   \n",
       "9         Hispanic or Latino                          -   \n",
       "\n",
       "  Subject Perceived Gender         Reported Date     Reported Time  \\\n",
       "0                     Male  2015-10-16T00:00:00Z  11:32:00.0000000   \n",
       "1                        -  2015-03-19T00:00:00Z  07:59:00.0000000   \n",
       "2                     Male  2015-03-21T00:00:00Z  19:12:00.0000000   \n",
       "3                        -  2015-04-01T00:00:00Z  04:55:00.0000000   \n",
       "4                     Male  2015-04-03T00:00:00Z  00:41:00.0000000   \n",
       "5                     Male  2015-04-05T00:00:00Z  23:46:00.0000000   \n",
       "6                   Female  2015-05-20T00:00:00Z  21:39:00.0000000   \n",
       "7                     Male  2015-05-20T00:00:00Z  22:40:00.0000000   \n",
       "8                   Female  2015-05-22T00:00:00Z  07:39:00.0000000   \n",
       "9                        -  2015-05-25T00:00:00Z  01:06:00.0000000   \n",
       "\n",
       "  Initial Call Type Final Call Type Call Type                 Officer Squad  \\\n",
       "0                 -               -         -      SOUTH PCT 1ST W - ROBERT   \n",
       "1                 -               -         -                           NaN   \n",
       "2                 -               -         -                           NaN   \n",
       "3                 -               -         -                           NaN   \n",
       "4                 -               -         -                           NaN   \n",
       "5                 -               -         -                           NaN   \n",
       "6                 -               -         -         WEST PCT 3RD W - MARY   \n",
       "7                 -               -         -         WEST PCT 3RD W - MARY   \n",
       "8                 -               -         -  SOUTH PCT 1ST W - R/S RELIEF   \n",
       "9                 -               -         -         WEST PCT 3RD W - MARY   \n",
       "\n",
       "  Arrest Flag Frisk Flag Precinct Sector Beat  \n",
       "0           N          N    South      O   O2  \n",
       "1           N          N        -      -    -  \n",
       "2           N          -        -      -    -  \n",
       "3           N          N        -      -    -  \n",
       "4           N          N        -      -    -  \n",
       "5           N          N        -      -    -  \n",
       "6           N          N        -      -    -  \n",
       "7           N          N        -      -    -  \n",
       "8           N          N     East      E   E2  \n",
       "9           N          N        -      -    -  "
      ]
     },
     "execution_count": 670,
     "metadata": {},
     "output_type": "execute_result"
    }
   ],
   "source": [
    "# Look at the data\n",
    "df.head(10)\n"
   ]
  },
  {
   "cell_type": "code",
   "execution_count": 671,
   "metadata": {},
   "outputs": [
    {
     "name": "stdout",
     "output_type": "stream",
     "text": [
      "<class 'pandas.core.frame.DataFrame'>\n",
      "RangeIndex: 52328 entries, 0 to 52327\n",
      "Data columns (total 23 columns):\n",
      " #   Column                    Non-Null Count  Dtype \n",
      "---  ------                    --------------  ----- \n",
      " 0   Subject Age Group         52328 non-null  object\n",
      " 1   Subject ID                52328 non-null  int64 \n",
      " 2   GO / SC Num               52328 non-null  int64 \n",
      " 3   Terry Stop ID             52328 non-null  int64 \n",
      " 4   Stop Resolution           52328 non-null  object\n",
      " 5   Weapon Type               52328 non-null  object\n",
      " 6   Officer ID                52328 non-null  object\n",
      " 7   Officer YOB               52328 non-null  int64 \n",
      " 8   Officer Gender            52328 non-null  object\n",
      " 9   Officer Race              52328 non-null  object\n",
      " 10  Subject Perceived Race    52328 non-null  object\n",
      " 11  Subject Perceived Gender  52328 non-null  object\n",
      " 12  Reported Date             52328 non-null  object\n",
      " 13  Reported Time             52328 non-null  object\n",
      " 14  Initial Call Type         52328 non-null  object\n",
      " 15  Final Call Type           52328 non-null  object\n",
      " 16  Call Type                 52328 non-null  object\n",
      " 17  Officer Squad             51842 non-null  object\n",
      " 18  Arrest Flag               52328 non-null  object\n",
      " 19  Frisk Flag                52328 non-null  object\n",
      " 20  Precinct                  52328 non-null  object\n",
      " 21  Sector                    52328 non-null  object\n",
      " 22  Beat                      52328 non-null  object\n",
      "dtypes: int64(4), object(19)\n",
      "memory usage: 9.2+ MB\n"
     ]
    }
   ],
   "source": [
    "# Look for null values\n",
    "df.info()\n"
   ]
  },
  {
   "cell_type": "code",
   "execution_count": 672,
   "metadata": {},
   "outputs": [
    {
     "data": {
      "text/plain": [
       "Subject Age Group             0\n",
       "Subject ID                    0\n",
       "GO / SC Num                   0\n",
       "Terry Stop ID                 0\n",
       "Stop Resolution               0\n",
       "Weapon Type                   0\n",
       "Officer ID                    0\n",
       "Officer YOB                   0\n",
       "Officer Gender                0\n",
       "Officer Race                  0\n",
       "Subject Perceived Race        0\n",
       "Subject Perceived Gender      0\n",
       "Reported Date                 0\n",
       "Reported Time                 0\n",
       "Initial Call Type             0\n",
       "Final Call Type               0\n",
       "Call Type                     0\n",
       "Officer Squad               486\n",
       "Arrest Flag                   0\n",
       "Frisk Flag                    0\n",
       "Precinct                      0\n",
       "Sector                        0\n",
       "Beat                          0\n",
       "dtype: int64"
      ]
     },
     "execution_count": 672,
     "metadata": {},
     "output_type": "execute_result"
    }
   ],
   "source": [
    "df.isna().sum()"
   ]
  },
  {
   "cell_type": "code",
   "execution_count": 673,
   "metadata": {},
   "outputs": [],
   "source": [
    "# Drop Null values column\n",
    "df = df.drop('Officer Squad', axis = 1)"
   ]
  },
  {
   "cell_type": "code",
   "execution_count": 674,
   "metadata": {},
   "outputs": [],
   "source": [
    "# Drop duplicates\n",
    "df = df.drop_duplicates(subset=['Terry Stop ID'], keep='first')"
   ]
  },
  {
   "cell_type": "code",
   "execution_count": 675,
   "metadata": {},
   "outputs": [
    {
     "name": "stdout",
     "output_type": "stream",
     "text": [
      "<class 'pandas.core.frame.DataFrame'>\n",
      "Int64Index: 52266 entries, 0 to 52327\n",
      "Data columns (total 22 columns):\n",
      " #   Column                    Non-Null Count  Dtype \n",
      "---  ------                    --------------  ----- \n",
      " 0   Subject Age Group         52266 non-null  object\n",
      " 1   Subject ID                52266 non-null  int64 \n",
      " 2   GO / SC Num               52266 non-null  int64 \n",
      " 3   Terry Stop ID             52266 non-null  int64 \n",
      " 4   Stop Resolution           52266 non-null  object\n",
      " 5   Weapon Type               52266 non-null  object\n",
      " 6   Officer ID                52266 non-null  object\n",
      " 7   Officer YOB               52266 non-null  int64 \n",
      " 8   Officer Gender            52266 non-null  object\n",
      " 9   Officer Race              52266 non-null  object\n",
      " 10  Subject Perceived Race    52266 non-null  object\n",
      " 11  Subject Perceived Gender  52266 non-null  object\n",
      " 12  Reported Date             52266 non-null  object\n",
      " 13  Reported Time             52266 non-null  object\n",
      " 14  Initial Call Type         52266 non-null  object\n",
      " 15  Final Call Type           52266 non-null  object\n",
      " 16  Call Type                 52266 non-null  object\n",
      " 17  Arrest Flag               52266 non-null  object\n",
      " 18  Frisk Flag                52266 non-null  object\n",
      " 19  Precinct                  52266 non-null  object\n",
      " 20  Sector                    52266 non-null  object\n",
      " 21  Beat                      52266 non-null  object\n",
      "dtypes: int64(4), object(18)\n",
      "memory usage: 9.2+ MB\n"
     ]
    }
   ],
   "source": [
    "df.info()"
   ]
  },
  {
   "cell_type": "code",
   "execution_count": 676,
   "metadata": {},
   "outputs": [
    {
     "data": {
      "text/plain": [
       "array(['-', '1 - 17', '18 - 25', '26 - 35', '36 - 45', '46 - 55',\n",
       "       '56 and Above'], dtype=object)"
      ]
     },
     "execution_count": 676,
     "metadata": {},
     "output_type": "execute_result"
    }
   ],
   "source": [
    "df['Subject Age Group'].unique()"
   ]
  },
  {
   "cell_type": "code",
   "execution_count": 677,
   "metadata": {},
   "outputs": [
    {
     "data": {
      "text/plain": [
       "26 - 35         17452\n",
       "36 - 45         11271\n",
       "18 - 25         10302\n",
       "46 - 55          6716\n",
       "56 and Above     2696\n",
       "1 - 17           2059\n",
       "-                1770\n",
       "Name: Subject Age Group, dtype: int64"
      ]
     },
     "execution_count": 677,
     "metadata": {},
     "output_type": "execute_result"
    }
   ],
   "source": [
    "df['Subject Age Group'].value_counts()"
   ]
  },
  {
   "cell_type": "code",
   "execution_count": 678,
   "metadata": {},
   "outputs": [
    {
     "data": {
      "text/plain": [
       "Subject Age Group           0\n",
       "Subject ID                  0\n",
       "GO / SC Num                 0\n",
       "Terry Stop ID               0\n",
       "Stop Resolution             0\n",
       "Weapon Type                 0\n",
       "Officer ID                  0\n",
       "Officer YOB                 0\n",
       "Officer Gender              0\n",
       "Officer Race                0\n",
       "Subject Perceived Race      0\n",
       "Subject Perceived Gender    0\n",
       "Reported Date               0\n",
       "Reported Time               0\n",
       "Initial Call Type           0\n",
       "Final Call Type             0\n",
       "Call Type                   0\n",
       "Arrest Flag                 0\n",
       "Frisk Flag                  0\n",
       "Precinct                    0\n",
       "Sector                      0\n",
       "Beat                        0\n",
       "dtype: int64"
      ]
     },
     "execution_count": 678,
     "metadata": {},
     "output_type": "execute_result"
    }
   ],
   "source": [
    "df.isna().sum()"
   ]
  },
  {
   "cell_type": "markdown",
   "metadata": {},
   "source": [
    "Our target vriable will be the Stop Resolution column. This is becase we aim to see if an arrest was made after a Terry Stop.\n",
    "This is a binary classification problem 1 = Arrest, 0 = No arrest. We will look at the content in the Stop Resolution Column and assign arrest to 1 and the rest as 0. "
   ]
  },
  {
   "cell_type": "code",
   "execution_count": 679,
   "metadata": {},
   "outputs": [
    {
     "data": {
      "text/plain": [
       "array(['Arrest', 'Field Contact', 'Citation / Infraction',\n",
       "       'Offense Report', 'Referred for Prosecution'], dtype=object)"
      ]
     },
     "execution_count": 679,
     "metadata": {},
     "output_type": "execute_result"
    }
   ],
   "source": [
    "# See unique values in Stop Resolution Column\n",
    "df['Stop Resolution'].unique()"
   ]
  },
  {
   "cell_type": "code",
   "execution_count": 680,
   "metadata": {},
   "outputs": [
    {
     "data": {
      "text/plain": [
       "0    39398\n",
       "1    12868\n",
       "Name: Stop Resolution, dtype: int64"
      ]
     },
     "execution_count": 680,
     "metadata": {},
     "output_type": "execute_result"
    }
   ],
   "source": [
    "# Assign 1 to arrest and 0 to the rest\n",
    "df['Stop Resolution'] = df['Stop Resolution'].map({'Arrest': 1, 'Field Contact': 0,'Offense Report': 0,\n",
    "                                                   'Referred for Prosecution': 0,'Citation / Infraction': 0})\n",
    "df['Stop Resolution'].value_counts()"
   ]
  },
  {
   "cell_type": "markdown",
   "metadata": {},
   "source": [
    "We first change the date column to a datetime formart and also separate the month, and year into separate columns to analyse each individually and get insights from them."
   ]
  },
  {
   "cell_type": "code",
   "execution_count": 681,
   "metadata": {},
   "outputs": [],
   "source": [
    "# Change the date column to datetime so we can work with it. Add in the month as a new column:\n",
    "df['Reported Date'] = pd.to_datetime(df['Reported Date'])\n",
    "df['Month'] = df['Reported Date'].dt.month.map({1:'January',2:'February',3:'March',4:'April',5:'May',6:'June',7:'July'\n",
    "                                               ,8:'August',9:'September',10:'October',11:'November',12:'December'})\n",
    "\n",
    "df['Year'] = df['Reported Date'].dt.year"
   ]
  },
  {
   "cell_type": "code",
   "execution_count": 682,
   "metadata": {},
   "outputs": [
    {
     "data": {
      "text/plain": [
       "0         October\n",
       "1           March\n",
       "2           March\n",
       "3           April\n",
       "4           April\n",
       "           ...   \n",
       "52323    November\n",
       "52324        June\n",
       "52325        July\n",
       "52326        July\n",
       "52327        July\n",
       "Name: Month, Length: 52266, dtype: object"
      ]
     },
     "execution_count": 682,
     "metadata": {},
     "output_type": "execute_result"
    }
   ],
   "source": [
    "df['Month']"
   ]
  },
  {
   "cell_type": "markdown",
   "metadata": {},
   "source": [
    "Drop all the columns that are uncessary and will not be used"
   ]
  },
  {
   "cell_type": "code",
   "execution_count": 683,
   "metadata": {},
   "outputs": [
    {
     "data": {
      "text/plain": [
       "Index(['Subject Age Group', 'Subject ID', 'GO / SC Num', 'Terry Stop ID',\n",
       "       'Stop Resolution', 'Weapon Type', 'Officer ID', 'Officer YOB',\n",
       "       'Officer Gender', 'Officer Race', 'Subject Perceived Race',\n",
       "       'Subject Perceived Gender', 'Reported Date', 'Reported Time',\n",
       "       'Initial Call Type', 'Final Call Type', 'Call Type', 'Arrest Flag',\n",
       "       'Frisk Flag', 'Precinct', 'Sector', 'Beat', 'Month', 'Year'],\n",
       "      dtype='object')"
      ]
     },
     "execution_count": 683,
     "metadata": {},
     "output_type": "execute_result"
    }
   ],
   "source": [
    "df.columns"
   ]
  },
  {
   "cell_type": "code",
   "execution_count": 684,
   "metadata": {},
   "outputs": [
    {
     "data": {
      "text/html": [
       "<div>\n",
       "<style scoped>\n",
       "    .dataframe tbody tr th:only-of-type {\n",
       "        vertical-align: middle;\n",
       "    }\n",
       "\n",
       "    .dataframe tbody tr th {\n",
       "        vertical-align: top;\n",
       "    }\n",
       "\n",
       "    .dataframe thead th {\n",
       "        text-align: right;\n",
       "    }\n",
       "</style>\n",
       "<table border=\"1\" class=\"dataframe\">\n",
       "  <thead>\n",
       "    <tr style=\"text-align: right;\">\n",
       "      <th></th>\n",
       "      <th>Stop Resolution</th>\n",
       "      <th>Weapon Type</th>\n",
       "      <th>Officer Gender</th>\n",
       "      <th>Officer Race</th>\n",
       "      <th>Subject Perceived Race</th>\n",
       "      <th>Subject Perceived Gender</th>\n",
       "      <th>Arrest Flag</th>\n",
       "      <th>Frisk Flag</th>\n",
       "      <th>Month</th>\n",
       "      <th>Year</th>\n",
       "    </tr>\n",
       "  </thead>\n",
       "  <tbody>\n",
       "    <tr>\n",
       "      <th>0</th>\n",
       "      <td>1</td>\n",
       "      <td>None</td>\n",
       "      <td>M</td>\n",
       "      <td>Black or African American</td>\n",
       "      <td>Asian</td>\n",
       "      <td>Male</td>\n",
       "      <td>N</td>\n",
       "      <td>N</td>\n",
       "      <td>October</td>\n",
       "      <td>2015</td>\n",
       "    </tr>\n",
       "    <tr>\n",
       "      <th>1</th>\n",
       "      <td>0</td>\n",
       "      <td>None</td>\n",
       "      <td>M</td>\n",
       "      <td>White</td>\n",
       "      <td>-</td>\n",
       "      <td>-</td>\n",
       "      <td>N</td>\n",
       "      <td>N</td>\n",
       "      <td>March</td>\n",
       "      <td>2015</td>\n",
       "    </tr>\n",
       "    <tr>\n",
       "      <th>2</th>\n",
       "      <td>0</td>\n",
       "      <td>None</td>\n",
       "      <td>M</td>\n",
       "      <td>White</td>\n",
       "      <td>White</td>\n",
       "      <td>Male</td>\n",
       "      <td>N</td>\n",
       "      <td>-</td>\n",
       "      <td>March</td>\n",
       "      <td>2015</td>\n",
       "    </tr>\n",
       "    <tr>\n",
       "      <th>3</th>\n",
       "      <td>0</td>\n",
       "      <td>None</td>\n",
       "      <td>M</td>\n",
       "      <td>White</td>\n",
       "      <td>-</td>\n",
       "      <td>-</td>\n",
       "      <td>N</td>\n",
       "      <td>N</td>\n",
       "      <td>April</td>\n",
       "      <td>2015</td>\n",
       "    </tr>\n",
       "    <tr>\n",
       "      <th>4</th>\n",
       "      <td>0</td>\n",
       "      <td>None</td>\n",
       "      <td>M</td>\n",
       "      <td>White</td>\n",
       "      <td>Black or African American</td>\n",
       "      <td>Male</td>\n",
       "      <td>N</td>\n",
       "      <td>N</td>\n",
       "      <td>April</td>\n",
       "      <td>2015</td>\n",
       "    </tr>\n",
       "  </tbody>\n",
       "</table>\n",
       "</div>"
      ],
      "text/plain": [
       "   Stop Resolution Weapon Type Officer Gender               Officer Race  \\\n",
       "0                1        None              M  Black or African American   \n",
       "1                0        None              M                      White   \n",
       "2                0        None              M                      White   \n",
       "3                0        None              M                      White   \n",
       "4                0        None              M                      White   \n",
       "\n",
       "      Subject Perceived Race Subject Perceived Gender Arrest Flag Frisk Flag  \\\n",
       "0                      Asian                     Male           N          N   \n",
       "1                          -                        -           N          N   \n",
       "2                      White                     Male           N          -   \n",
       "3                          -                        -           N          N   \n",
       "4  Black or African American                     Male           N          N   \n",
       "\n",
       "     Month  Year  \n",
       "0  October  2015  \n",
       "1    March  2015  \n",
       "2    March  2015  \n",
       "3    April  2015  \n",
       "4    April  2015  "
      ]
     },
     "execution_count": 684,
     "metadata": {},
     "output_type": "execute_result"
    }
   ],
   "source": [
    "df = df.drop(['Subject ID', 'GO / SC Num', 'Terry Stop ID', 'Officer ID', 'Officer YOB',\n",
    "             'Reported Date','Initial Call Type', 'Final Call Type', 'Call Type',\n",
    "             'Sector', 'Beat', 'Reported Time', 'Subject Age Group', \n",
    "             'Precinct'], axis = 1)\n",
    "df.head()"
   ]
  },
  {
   "cell_type": "code",
   "execution_count": 685,
   "metadata": {},
   "outputs": [
    {
     "data": {
      "text/plain": [
       "array(['None', 'Firearm Other', 'Lethal Cutting Instrument', 'Handgun',\n",
       "       '-', 'Club, Blackjack, Brass Knuckles',\n",
       "       'Knife/Cutting/Stabbing Instrument', 'Other Firearm', 'Rifle',\n",
       "       'Fire/Incendiary Device', 'Blunt Object/Striking Implement',\n",
       "       'Firearm (unk type)', 'None/Not Applicable', 'Firearm', 'Club',\n",
       "       'Mace/Pepper Spray', 'Shotgun', 'Taser/Stun Gun', 'Brass Knuckles',\n",
       "       'Automatic Handgun', 'Blackjack',\n",
       "       'Personal Weapons (hands, feet, etc.)'], dtype=object)"
      ]
     },
     "execution_count": 685,
     "metadata": {},
     "output_type": "execute_result"
    }
   ],
   "source": [
    "# Dealing with the Weapon Type Column\n",
    "\n",
    "df['Weapon Type'].unique()"
   ]
  },
  {
   "cell_type": "code",
   "execution_count": 686,
   "metadata": {},
   "outputs": [
    {
     "data": {
      "text/plain": [
       "array(['None', 'Firearm', 'Cutting', 'Hitting', 'Ignition'], dtype=object)"
      ]
     },
     "execution_count": 686,
     "metadata": {},
     "output_type": "execute_result"
    }
   ],
   "source": [
    "# Merge the weapons with the same uses\n",
    "df['Weapon Type'] = df['Weapon Type'].map({'None':'None', \n",
    "                                          'Firearm Other':'Firearm', \n",
    "                                          'Lethal Cutting Instrument':'Cutting', \n",
    "                                          'Handgun':'Firearm',\n",
    "                                          '-':'None', \n",
    "                                          'Club, Blackjack, Brass Knuckles':'Hitting',\n",
    "                                          'Knife/Cutting/Stabbing Instrument': 'Cutting', \n",
    "                                          'Other Firearm':'Firearm', \n",
    "                                          'Rifle':'Firearm',\n",
    "                                          'Fire/Incendiary Device':'Ignition', \n",
    "                                          'Blunt Object/Striking Implement':'Hitting',\n",
    "                                          'Firearm (unk type)':'Firearm', \n",
    "                                          'None/Not Applicable': 'None', \n",
    "                                          'Firearm':'Firearm', \n",
    "                                          'Club':'Hitting',\n",
    "                                          'Mace/Pepper Spray':'Hitting', \n",
    "                                          'Shotgun':'Firearm', \n",
    "                                          'Taser/Stun Gun':'Firearm', \n",
    "                                          'Brass Knuckles':'Hitting',\n",
    "                                          'Automatic Handgun':'Hitting', \n",
    "                                          'Blackjack':'Hitting',\n",
    "                                          'Personal Weapons (hands, feet, etc.)':'None'})\n",
    "\n",
    "\n",
    "df['Weapon Type'].unique()"
   ]
  },
  {
   "cell_type": "code",
   "execution_count": 687,
   "metadata": {},
   "outputs": [
    {
     "data": {
      "text/plain": [
       "0    49151\n",
       "1     3115\n",
       "Name: Weapon Type, dtype: int64"
      ]
     },
     "execution_count": 687,
     "metadata": {},
     "output_type": "execute_result"
    }
   ],
   "source": [
    "# Make weapon column binary\n",
    "# make this volumn binary\n",
    "df['Weapon Type'] = df['Weapon Type'].map({'None': 0, 'Firearm': 1, 'Cutting': 1, 'Hitting':1, 'Ignition':1})\n",
    "df['Weapon Type'].value_counts()"
   ]
  },
  {
   "cell_type": "code",
   "execution_count": 688,
   "metadata": {},
   "outputs": [
    {
     "data": {
      "text/plain": [
       "Male                                                         41120\n",
       "Female                                                       10505\n",
       "Unable to Determine                                            326\n",
       "-                                                              238\n",
       "Unknown                                                         61\n",
       "Gender Diverse (gender non-conforming and/or transgender)       16\n",
       "Name: Subject Perceived Gender, dtype: int64"
      ]
     },
     "execution_count": 688,
     "metadata": {},
     "output_type": "execute_result"
    }
   ],
   "source": [
    "# Dealing with Subject Gender\n",
    "df['Subject Perceived Gender'].value_counts()\n"
   ]
  },
  {
   "cell_type": "code",
   "execution_count": 689,
   "metadata": {},
   "outputs": [
    {
     "data": {
      "text/plain": [
       "Male      41120\n",
       "Female    10505\n",
       "Name: Subject Perceived Gender, dtype: int64"
      ]
     },
     "execution_count": 689,
     "metadata": {},
     "output_type": "execute_result"
    }
   ],
   "source": [
    "#Drop unknown and other smaller categories\n",
    "df = df[(df['Subject Perceived Gender'] == 'Male') | (df['Subject Perceived Gender'] == 'Female')]\n",
    "df['Subject Perceived Gender'].value_counts()"
   ]
  },
  {
   "cell_type": "code",
   "execution_count": 690,
   "metadata": {},
   "outputs": [],
   "source": [
    "# Change Subject Gender data to binary\n",
    "df['Subject Perceived Gender'] = df['Subject Perceived Gender'].map({'Male': 1, 'Female': 0})"
   ]
  },
  {
   "cell_type": "code",
   "execution_count": 691,
   "metadata": {},
   "outputs": [
    {
     "data": {
      "text/plain": [
       "M    45703\n",
       "F     5895\n",
       "N       27\n",
       "Name: Officer Gender, dtype: int64"
      ]
     },
     "execution_count": 691,
     "metadata": {},
     "output_type": "execute_result"
    }
   ],
   "source": [
    "# Dealing with Officer Gender Column\n",
    "df['Officer Gender'].value_counts()"
   ]
  },
  {
   "cell_type": "code",
   "execution_count": 692,
   "metadata": {},
   "outputs": [
    {
     "data": {
      "text/plain": [
       "M    45703\n",
       "F     5895\n",
       "Name: Officer Gender, dtype: int64"
      ]
     },
     "execution_count": 692,
     "metadata": {},
     "output_type": "execute_result"
    }
   ],
   "source": [
    "# Drop the none values \n",
    "df = df[(df['Officer Gender'] == 'M') | (df['Officer Gender'] == 'F')]\n",
    "df['Officer Gender'].value_counts()"
   ]
  },
  {
   "cell_type": "code",
   "execution_count": 693,
   "metadata": {},
   "outputs": [],
   "source": [
    "# Change Officer Gender data to binary\n",
    "df['Officer Gender'] = df['Officer Gender'].map({'M': 1, 'F': 0})"
   ]
  },
  {
   "cell_type": "code",
   "execution_count": 694,
   "metadata": {},
   "outputs": [
    {
     "data": {
      "text/plain": [
       "N    39310\n",
       "Y    11868\n",
       "-      420\n",
       "Name: Frisk Flag, dtype: int64"
      ]
     },
     "execution_count": 694,
     "metadata": {},
     "output_type": "execute_result"
    }
   ],
   "source": [
    "df['Frisk Flag'].value_counts()"
   ]
  },
  {
   "cell_type": "code",
   "execution_count": 695,
   "metadata": {},
   "outputs": [],
   "source": [
    "# Dropping the null values in the Frisk Flag Column\n",
    "df = df[(df['Frisk Flag'] == 'N') | (df['Frisk Flag'] == 'Y')]"
   ]
  },
  {
   "cell_type": "code",
   "execution_count": 696,
   "metadata": {},
   "outputs": [],
   "source": [
    "# Change Frisk Flag data to binary\n",
    "df['Frisk Flag'] = df['Frisk Flag'].map({'Y': 1, 'N': 0})"
   ]
  },
  {
   "cell_type": "code",
   "execution_count": 697,
   "metadata": {},
   "outputs": [
    {
     "data": {
      "text/plain": [
       "N    46526\n",
       "Y     4652\n",
       "Name: Arrest Flag, dtype: int64"
      ]
     },
     "execution_count": 697,
     "metadata": {},
     "output_type": "execute_result"
    }
   ],
   "source": [
    "# Dealing with Arrest Flag column\n",
    "df['Arrest Flag'].value_counts()"
   ]
  },
  {
   "cell_type": "code",
   "execution_count": 698,
   "metadata": {},
   "outputs": [],
   "source": [
    "# Change Arrest Flag Flag data to binary\n",
    "df['Arrest Flag'] = df['Arrest Flag'].map({'Y': 1, 'N': 0})"
   ]
  },
  {
   "cell_type": "code",
   "execution_count": 699,
   "metadata": {},
   "outputs": [
    {
     "data": {
      "text/plain": [
       "White                            37747\n",
       "Hispanic or Latino                3120\n",
       "Two or More Races                 3063\n",
       "Asian                             2318\n",
       "Not Specified                     2135\n",
       "Black or African American         2005\n",
       "Nat Hawaiian/Oth Pac Islander      467\n",
       "American Indian/Alaska Native      317\n",
       "Unknown                              6\n",
       "Name: Officer Race, dtype: int64"
      ]
     },
     "execution_count": 699,
     "metadata": {},
     "output_type": "execute_result"
    }
   ],
   "source": [
    "# Dealing with Officer Race column\n",
    "df['Officer Race'].value_counts()"
   ]
  },
  {
   "cell_type": "code",
   "execution_count": 700,
   "metadata": {},
   "outputs": [],
   "source": [
    "# Merge Unknown and Not specified\n",
    "df['Officer Race'] = df['Officer Race'].replace('Unknown', 'Not Specified ')\n"
   ]
  },
  {
   "cell_type": "markdown",
   "metadata": {},
   "source": [
    "Since white Officers are more dominant, we put all the other races together"
   ]
  },
  {
   "cell_type": "code",
   "execution_count": 701,
   "metadata": {},
   "outputs": [
    {
     "data": {
      "text/plain": [
       "White                            37747\n",
       "Hispanic or Latino                3120\n",
       "Two or More Races                 3063\n",
       "Asian                             2318\n",
       "Not Specified                     2135\n",
       "Black or African American         2005\n",
       "Nat Hawaiian/Oth Pac Islander      467\n",
       "American Indian/Alaska Native      317\n",
       "Not Specified                        6\n",
       "Name: Officer Race, dtype: int64"
      ]
     },
     "execution_count": 701,
     "metadata": {},
     "output_type": "execute_result"
    }
   ],
   "source": [
    "df['Officer Race'].value_counts()"
   ]
  },
  {
   "cell_type": "code",
   "execution_count": 702,
   "metadata": {},
   "outputs": [
    {
     "data": {
      "text/plain": [
       "1.0    37747\n",
       "0.0    13425\n",
       "Name: Officer Race, dtype: int64"
      ]
     },
     "execution_count": 702,
     "metadata": {},
     "output_type": "execute_result"
    }
   ],
   "source": [
    "# make this volumn binary\n",
    "df['Officer Race'] = df['Officer Race'].map({'White': 1, 'Hispanic or Latino': 0,'Two or More Races': 0, 'Asian': 0, \n",
    "                                             'Not Specified' : 0, 'Black or African American': 0,\n",
    "                                             'Nat Hawaiian/Oth Pac Islander': 0, 'American Indian/Alaska Native': 0,\n",
    "                                             'Not Specified': 0})\n",
    "df['Officer Race'].value_counts()"
   ]
  },
  {
   "cell_type": "code",
   "execution_count": 703,
   "metadata": {},
   "outputs": [
    {
     "data": {
      "text/plain": [
       "White                                        25294\n",
       "Black or African American                    15415\n",
       "Unknown                                       3115\n",
       "Asian                                         1728\n",
       "Hispanic                                      1664\n",
       "-                                             1488\n",
       "American Indian or Alaska Native              1458\n",
       "Multi-Racial                                   778\n",
       "Other                                          148\n",
       "Native Hawaiian or Other Pacific Islander       90\n",
       "Name: Subject Perceived Race, dtype: int64"
      ]
     },
     "execution_count": 703,
     "metadata": {},
     "output_type": "execute_result"
    }
   ],
   "source": [
    "df['Subject Perceived Race'].value_counts()"
   ]
  },
  {
   "cell_type": "code",
   "execution_count": 704,
   "metadata": {},
   "outputs": [
    {
     "data": {
      "text/plain": [
       "White                                        25294\n",
       "Black or African American                    15415\n",
       "Not Specified                                 4751\n",
       "Asian                                         1728\n",
       "Hispanic                                      1664\n",
       "American Indian or Alaska Native              1458\n",
       "Multi-Racial                                   778\n",
       "Native Hawaiian or Other Pacific Islander       90\n",
       "Name: Subject Perceived Race, dtype: int64"
      ]
     },
     "execution_count": 704,
     "metadata": {},
     "output_type": "execute_result"
    }
   ],
   "source": [
    "# Merge Unknown and Not specified\n",
    "df['Subject Perceived Race'] = df['Subject Perceived Race'].replace('Unknown', 'Not Specified ')\n",
    "df['Subject Perceived Race'] = df['Subject Perceived Race'].replace('Other', 'Not Specified ')\n",
    "df['Subject Perceived Race'] = df['Subject Perceived Race'].replace('-', 'Not Specified ')\n",
    "df['Subject Perceived Race'].value_counts()"
   ]
  },
  {
   "cell_type": "markdown",
   "metadata": {},
   "source": [
    "Since white are more dominant, we put all the other races together and categorise them as people of color"
   ]
  },
  {
   "cell_type": "code",
   "execution_count": 705,
   "metadata": {},
   "outputs": [
    {
     "data": {
      "text/plain": [
       "1.0    25294\n",
       "0.0    21133\n",
       "Name: Subject Perceived Race, dtype: int64"
      ]
     },
     "execution_count": 705,
     "metadata": {},
     "output_type": "execute_result"
    }
   ],
   "source": [
    "# make this volumn binary\n",
    "df['Subject Perceived Race'] = df['Subject Perceived Race'].map({'White': 1, 'Hispanic': 0, 'Asian': 0, 'Black or African American': 0,\n",
    "                                             'Native Hawaiian or Other Pacific Islander': 0, \n",
    "                                             'American Indian or Alaska Native': 0, 'Multi-Racial' : 0,\n",
    "                                             'Not Specified': 0})\n",
    "df['Subject Perceived Race'].value_counts()\n"
   ]
  },
  {
   "cell_type": "code",
   "execution_count": 706,
   "metadata": {},
   "outputs": [
    {
     "name": "stdout",
     "output_type": "stream",
     "text": [
      "<class 'pandas.core.frame.DataFrame'>\n",
      "Int64Index: 51178 entries, 0 to 52327\n",
      "Data columns (total 10 columns):\n",
      " #   Column                    Non-Null Count  Dtype  \n",
      "---  ------                    --------------  -----  \n",
      " 0   Stop Resolution           51178 non-null  int64  \n",
      " 1   Weapon Type               51178 non-null  int64  \n",
      " 2   Officer Gender            51178 non-null  int64  \n",
      " 3   Officer Race              51172 non-null  float64\n",
      " 4   Subject Perceived Race    46427 non-null  float64\n",
      " 5   Subject Perceived Gender  51178 non-null  int64  \n",
      " 6   Arrest Flag               51178 non-null  int64  \n",
      " 7   Frisk Flag                51178 non-null  int64  \n",
      " 8   Month                     51178 non-null  object \n",
      " 9   Year                      51178 non-null  int64  \n",
      "dtypes: float64(2), int64(7), object(1)\n",
      "memory usage: 4.3+ MB\n"
     ]
    }
   ],
   "source": [
    "df.info()"
   ]
  },
  {
   "cell_type": "markdown",
   "metadata": {},
   "source": [
    "# Modeling"
   ]
  },
  {
   "cell_type": "markdown",
   "metadata": {},
   "source": [
    "In this section we will conduct Exploratory Data Analysis, by using data visualisation."
   ]
  },
  {
   "cell_type": "code",
   "execution_count": 707,
   "metadata": {},
   "outputs": [
    {
     "name": "stderr",
     "output_type": "stream",
     "text": [
      "C:\\Users\\Sophi\\anaconda3\\envs\\learn-env\\lib\\site-packages\\seaborn\\_decorators.py:36: FutureWarning: Pass the following variable as a keyword arg: x. From version 0.12, the only valid positional argument will be `data`, and passing other arguments without an explicit keyword will result in an error or misinterpretation.\n",
      "  warnings.warn(\n"
     ]
    },
    {
     "data": {
      "text/plain": [
       "<AxesSubplot:xlabel='Stop Resolution', ylabel='count'>"
      ]
     },
     "execution_count": 707,
     "metadata": {},
     "output_type": "execute_result"
    },
    {
     "data": {
      "image/png": "[encoded data removed]",
      "text/plain": [
       "<Figure size 432x288 with 1 Axes>"
      ]
     },
     "metadata": {
      "needs_background": "light"
     },
     "output_type": "display_data"
    }
   ],
   "source": [
    "# Plot to see how many arrests were made\n",
    "sns.countplot(df['Stop Resolution'])\n",
    "\n"
   ]
  },
  {
   "cell_type": "code",
   "execution_count": 708,
   "metadata": {},
   "outputs": [],
   "source": [
    "# Dealing with subject Percieved gender"
   ]
  },
  {
   "cell_type": "code",
   "execution_count": null,
   "metadata": {},
   "outputs": [],
   "source": []
  },
  {
   "cell_type": "markdown",
   "metadata": {},
   "source": [
    "There were less arrests after the Stop"
   ]
  },
  {
   "cell_type": "code",
   "execution_count": 709,
   "metadata": {},
   "outputs": [
    {
     "data": {
      "text/plain": [
       "<AxesSubplot:xlabel='count', ylabel='Weapon Type'>"
      ]
     },
     "execution_count": 709,
     "metadata": {},
     "output_type": "execute_result"
    },
    {
     "data": {
      "image/png": "[encoded data removed]",
      "text/plain": [
       "<Figure size 432x288 with 1 Axes>"
      ]
     },
     "metadata": {
      "needs_background": "light"
     },
     "output_type": "display_data"
    }
   ],
   "source": [
    "# PLot to see types of weapons the culprits had on them\n",
    "sns.countplot(y = df['Weapon Type'], hue=df['Stop Resolution'])\n"
   ]
  },
  {
   "cell_type": "markdown",
   "metadata": {},
   "source": [
    "There were more arrests of people without any weapon"
   ]
  },
  {
   "cell_type": "code",
   "execution_count": 710,
   "metadata": {},
   "outputs": [
    {
     "data": {
      "text/plain": [
       "<AxesSubplot:xlabel='count', ylabel='Subject Perceived Gender'>"
      ]
     },
     "execution_count": 710,
     "metadata": {},
     "output_type": "execute_result"
    },
    {
     "data": {
      "image/png": "[encoded data removed]",
      "text/plain": [
       "<Figure size 432x288 with 1 Axes>"
      ]
     },
     "metadata": {
      "needs_background": "light"
     },
     "output_type": "display_data"
    }
   ],
   "source": [
    "# Plot to see ratio of male to female stopped\n",
    "sns.countplot(y=df['Subject Perceived Gender'], hue=df['Stop Resolution'])"
   ]
  },
  {
   "cell_type": "markdown",
   "metadata": {},
   "source": [
    "It is more likely for men to be stopped as compared to ladies. There is also a higher chance of getting arrested if you are a man."
   ]
  },
  {
   "cell_type": "code",
   "execution_count": 711,
   "metadata": {},
   "outputs": [
    {
     "data": {
      "text/plain": [
       "<AxesSubplot:xlabel='count', ylabel='Frisk Flag'>"
      ]
     },
     "execution_count": 711,
     "metadata": {},
     "output_type": "execute_result"
    },
    {
     "data": {
      "image/png": "[encoded data removed]",
      "text/plain": [
       "<Figure size 432x288 with 1 Axes>"
      ]
     },
     "metadata": {
      "needs_background": "light"
     },
     "output_type": "display_data"
    }
   ],
   "source": [
    "# Plot Frisk Flag vs Stop Resolution\n",
    "sns.countplot(y=df['Frisk Flag'], hue=df['Stop Resolution'])"
   ]
  },
  {
   "cell_type": "code",
   "execution_count": 712,
   "metadata": {},
   "outputs": [
    {
     "data": {
      "text/plain": [
       "<AxesSubplot:xlabel='count', ylabel='Arrest Flag'>"
      ]
     },
     "execution_count": 712,
     "metadata": {},
     "output_type": "execute_result"
    },
    {
     "data": {
      "image/png": "[encoded data removed]",
      "text/plain": [
       "<Figure size 432x288 with 1 Axes>"
      ]
     },
     "metadata": {
      "needs_background": "light"
     },
     "output_type": "display_data"
    }
   ],
   "source": [
    "# Plot Arrest Flag vs Stop Resolution\n",
    "sns.countplot(y=df['Arrest Flag'], hue=df['Stop Resolution'])"
   ]
  },
  {
   "cell_type": "markdown",
   "metadata": {},
   "source": [
    "The is always going to be an arrest later after the Terry stop rather than immediately on the stop"
   ]
  },
  {
   "cell_type": "code",
   "execution_count": 713,
   "metadata": {},
   "outputs": [
    {
     "data": {
      "text/plain": [
       "<AxesSubplot:xlabel='count', ylabel='Year'>"
      ]
     },
     "execution_count": 713,
     "metadata": {},
     "output_type": "execute_result"
    },
    {
     "data": {
      "image/png": "[encoded data removed]",
      "text/plain": [
       "<Figure size 432x288 with 1 Axes>"
      ]
     },
     "metadata": {
      "needs_background": "light"
     },
     "output_type": "display_data"
    }
   ],
   "source": [
    "# Plot Year vs Stop Resolution\n",
    "sns.countplot(y=df['Year'], hue=df['Stop Resolution'])"
   ]
  },
  {
   "cell_type": "code",
   "execution_count": 714,
   "metadata": {},
   "outputs": [
    {
     "data": {
      "text/plain": [
       "<AxesSubplot:xlabel='count', ylabel='Month'>"
      ]
     },
     "execution_count": 714,
     "metadata": {},
     "output_type": "execute_result"
    },
    {
     "data": {
      "image/png": "[encoded data removed]",
      "text/plain": [
       "<Figure size 432x288 with 1 Axes>"
      ]
     },
     "metadata": {
      "needs_background": "light"
     },
     "output_type": "display_data"
    }
   ],
   "source": [
    "# Plot Month vs Stop Resolution\n",
    "sns.countplot(y=df['Month'], hue=df['Stop Resolution'])"
   ]
  },
  {
   "cell_type": "markdown",
   "metadata": {},
   "source": [
    "# 4. Modeling"
   ]
  },
  {
   "cell_type": "markdown",
   "metadata": {},
   "source": [
    "In this section, we will fit 3 models, a baseline model parametric (logistic Regression) , a non-parametric model that is no hyperparameter tuning, and finally the same non-parametric model with hyperparameter tuning"
   ]
  },
  {
   "cell_type": "code",
   "execution_count": 715,
   "metadata": {},
   "outputs": [],
   "source": [
    "# Define X and Y \n",
    "X = df.drop(columns=['Stop Resolution'], axis=1)\n",
    "y = df['Stop Resolution']\n",
    "\n",
    "# Split into Train and Test Data\n",
    "\n",
    "# We will use 70% of the data as train data\n",
    "X_train, X_test, y_train, y_test = train_test_split(X, y, random_state = 42, test_size = 0.3)"
   ]
  },
  {
   "cell_type": "markdown",
   "metadata": {},
   "source": [
    "## Logistic Regression "
   ]
  },
  {
   "cell_type": "markdown",
   "metadata": {},
   "source": [
    "We will first use a baseline Model, in this case the Logistic Regression Model, to have a comparison point for the other models. "
   ]
  },
  {
   "cell_type": "code",
   "execution_count": 717,
   "metadata": {},
   "outputs": [
    {
     "name": "stdout",
     "output_type": "stream",
     "text": [
      "<class 'pandas.core.frame.DataFrame'>\n",
      "Int64Index: 51178 entries, 0 to 52327\n",
      "Data columns (total 10 columns):\n",
      " #   Column                    Non-Null Count  Dtype  \n",
      "---  ------                    --------------  -----  \n",
      " 0   Stop Resolution           51178 non-null  int64  \n",
      " 1   Weapon Type               51178 non-null  int64  \n",
      " 2   Officer Gender            51178 non-null  int64  \n",
      " 3   Officer Race              51172 non-null  float64\n",
      " 4   Subject Perceived Race    46427 non-null  float64\n",
      " 5   Subject Perceived Gender  51178 non-null  int64  \n",
      " 6   Arrest Flag               51178 non-null  int64  \n",
      " 7   Frisk Flag                51178 non-null  int64  \n",
      " 8   Month                     51178 non-null  object \n",
      " 9   Year                      51178 non-null  int64  \n",
      "dtypes: float64(2), int64(7), object(1)\n",
      "memory usage: 6.8+ MB\n"
     ]
    }
   ],
   "source": [
    "df.info()"
   ]
  },
  {
   "cell_type": "markdown",
   "metadata": {},
   "source": [
    "Fixing the iteration error we will encounter when fitting the logistic regression model"
   ]
  },
  {
   "cell_type": "code",
   "execution_count": 729,
   "metadata": {},
   "outputs": [],
   "source": [
    "# Fitting the model\n",
    "logit = LogisticRegression(max_iter = 1000)\n",
    "logit.fit(X_train_ohe, y_train)\n",
    "y_train_pred = logit.predict(X_train_ohe)\n",
    "y_test_pred = logit.predict(X_test_ohe)"
   ]
  },
  {
   "cell_type": "markdown",
   "metadata": {},
   "source": [
    "### Performance Metrics"
   ]
  },
  {
   "cell_type": "code",
   "execution_count": 722,
   "metadata": {},
   "outputs": [
    {
     "data": {
      "text/plain": [
       "0.8428427869584636"
      ]
     },
     "execution_count": 722,
     "metadata": {},
     "output_type": "execute_result"
    }
   ],
   "source": [
    "accuracy_score(y_train, y_train_pred)"
   ]
  },
  {
   "cell_type": "code",
   "execution_count": 725,
   "metadata": {},
   "outputs": [
    {
     "data": {
      "text/plain": [
       "0.906785980611484"
      ]
     },
     "execution_count": 725,
     "metadata": {},
     "output_type": "execute_result"
    }
   ],
   "source": [
    "precision_score(y_train, y_train_pred)"
   ]
  },
  {
   "cell_type": "code",
   "execution_count": 726,
   "metadata": {},
   "outputs": [
    {
     "data": {
      "text/plain": [
       "0.5644437567693021"
      ]
     },
     "execution_count": 726,
     "metadata": {},
     "output_type": "execute_result"
    }
   ],
   "source": [
    "f1_score(y_train, y_train_pred)"
   ]
  },
  {
   "cell_type": "code",
   "execution_count": 732,
   "metadata": {},
   "outputs": [
    {
     "name": "stdout",
     "output_type": "stream",
     "text": [
      "{'criterion': 'gini', 'max_depth': 1, 'min_samples_split': 2}\n"
     ]
    }
   ],
   "source": [
    "# Determine optimal parameters:\n",
    "# Declare a baseline classifier:\n",
    "dtree = DecisionTreeClassifier()\n",
    "\n",
    "# Create a parameter grid and grid search to identify the best parameters:\n",
    "param_grid = {\n",
    "    \"criterion\": [\"gini\", \"entropy\"],\n",
    "    \"max_depth\": range(1,10),\n",
    "    \"min_samples_split\": range(2,10)\n",
    "}\n",
    "gs_tree = GridSearchCV(dtree, param_grid, cv=5, n_jobs=-1)\n",
    "\n",
    "# Fit the tuned parameters:\n",
    "gs_tree.fit(X_train_ohe, y_train)\n",
    "\n",
    "# Print best estimator parameters:\n",
    "print(gs_tree.best_params_)"
   ]
  }
 ],
 "metadata": {
  "kernelspec": {
   "display_name": "Python (learn-env)",
   "language": "python",
   "name": "learn-env"
  },
  "language_info": {
   "codemirror_mode": {
    "name": "ipython",
    "version": 3
   },
   "file_extension": ".py",
   "mimetype": "text/x-python",
   "name": "python",
   "nbconvert_exporter": "python",
   "pygments_lexer": "ipython3",
   "version": "3.8.5"
  }
 },
 "nbformat": 4,
 "nbformat_minor": 4
}
