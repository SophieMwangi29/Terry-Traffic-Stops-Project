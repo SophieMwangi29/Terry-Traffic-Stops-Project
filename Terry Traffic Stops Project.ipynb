{
 "cells": [
  {
   "cell_type": "markdown",
   "metadata": {},
   "source": [
    "# Terry Traffic Stops Project"
   ]
  },
  {
   "cell_type": "markdown",
   "metadata": {},
   "source": [
    "# 1. Importing data and packages"
   ]
  },
  {
   "cell_type": "markdown",
   "metadata": {},
   "source": [
    "We first import all the data and packages needed "
   ]
  },
  {
   "cell_type": "code",
   "execution_count": 463,
   "metadata": {},
   "outputs": [],
   "source": [
    "import pandas as pd\n",
    "import numpy as np\n",
    "import matplotlib.pyplot as plt\n",
    "import seaborn as sns\n",
    "%matplotlib inline\n",
    "\n",
    "from sklearn.model_selection import train_test_split,cross_val_score\n",
    "from sklearn.preprocessing import OneHotEncoder, StandardScaler\n",
    "from sklearn.metrics import accuracy_score,confusion_matrix,roc_curve, auc, f1_score, precision_score\n",
    "from sklearn.metrics import classification_report, confusion_matrix, plot_confusion_matrix\n",
    "\n",
    "from sklearn.linear_model import LogisticRegression\n",
    "from sklearn.ensemble import ExtraTreesClassifier,RandomForestClassifier\n",
    "from sklearn.tree import DecisionTreeClassifier \n",
    "from sklearn import preprocessing\n",
    "from sklearn.neighbors  import KNeighborsClassifier\n",
    "from sklearn.model_selection import GridSearchCV\n",
    "from sklearn.dummy import DummyClassifier\n",
    "from sklearn.compose import ColumnTransformer\n",
    "\n",
    "from imblearn.over_sampling import SMOTE  \n",
    "from imblearn.pipeline import Pipeline"
   ]
  },
  {
   "cell_type": "code",
   "execution_count": 464,
   "metadata": {},
   "outputs": [
    {
     "name": "stderr",
     "output_type": "stream",
     "text": [
      "C:\\Users\\Sophi\\anaconda3\\envs\\learn-env\\lib\\site-packages\\IPython\\core\\interactiveshell.py:3145: DtypeWarning: Columns (6) have mixed types.Specify dtype option on import or set low_memory=False.\n",
      "  has_raised = await self.run_ast_nodes(code_ast.body, cell_name,\n"
     ]
    }
   ],
   "source": [
    "# Import data\n",
    "df = pd.read_csv('Terry_stops.csv')\n",
    "pd.set_option('display.max_columns',None)"
   ]
  },
  {
   "cell_type": "markdown",
   "metadata": {},
   "source": [
    "The data was sourced from Seattle Police Department "
   ]
  },
  {
   "cell_type": "markdown",
   "metadata": {},
   "source": [
    "### Stakeholder Requirement and Problem"
   ]
  },
  {
   "cell_type": "markdown",
   "metadata": {},
   "source": [
    "Our stakeholder is the Supreme Court of Ohio. This is to help them understand if the Terry V. Ohio case was ruled accordingly and to ensure that such cases presented to them do not violed the Fourth Amendment that states; \n",
    "\n",
    "The right of the people to be secure in their persons, houses, papers, and effects, against unreasonable searches and seizures, shall not be violated, and no warrants shall issue, but upon probable cause, supported by oath or affirmation, and particularly describing the place to be searched, and the persons or things to be seized.\n",
    "\n",
    "The inspiration to conduct this project was stemed from the event that caused Terry and his three friends to face 3 years imprisonment due to unreasonable searches and seizures and above all the need to protect the officer's safety incident to the investigation by the state."
   ]
  },
  {
   "cell_type": "markdown",
   "metadata": {},
   "source": [
    "# 2. Exloratory data Analysis"
   ]
  },
  {
   "cell_type": "markdown",
   "metadata": {},
   "source": [
    "This process involves pre-processing of the data imported"
   ]
  },
  {
   "cell_type": "code",
   "execution_count": 470,
   "metadata": {},
   "outputs": [
    {
     "data": {
      "text/html": [
       "<div>\n",
       "<style scoped>\n",
       "    .dataframe tbody tr th:only-of-type {\n",
       "        vertical-align: middle;\n",
       "    }\n",
       "\n",
       "    .dataframe tbody tr th {\n",
       "        vertical-align: top;\n",
       "    }\n",
       "\n",
       "    .dataframe thead th {\n",
       "        text-align: right;\n",
       "    }\n",
       "</style>\n",
       "<table border=\"1\" class=\"dataframe\">\n",
       "  <thead>\n",
       "    <tr style=\"text-align: right;\">\n",
       "      <th></th>\n",
       "      <th>Subject Age Group</th>\n",
       "      <th>Subject ID</th>\n",
       "      <th>GO / SC Num</th>\n",
       "      <th>Terry Stop ID</th>\n",
       "      <th>Stop Resolution</th>\n",
       "      <th>Weapon Type</th>\n",
       "      <th>Officer ID</th>\n",
       "      <th>Officer YOB</th>\n",
       "      <th>Officer Gender</th>\n",
       "      <th>Officer Race</th>\n",
       "      <th>Subject Perceived Race</th>\n",
       "      <th>Subject Perceived Gender</th>\n",
       "      <th>Reported Date</th>\n",
       "      <th>Reported Time</th>\n",
       "      <th>Initial Call Type</th>\n",
       "      <th>Final Call Type</th>\n",
       "      <th>Call Type</th>\n",
       "      <th>Arrest Flag</th>\n",
       "      <th>Frisk Flag</th>\n",
       "      <th>Precinct</th>\n",
       "      <th>Sector</th>\n",
       "      <th>Beat</th>\n",
       "    </tr>\n",
       "  </thead>\n",
       "  <tbody>\n",
       "    <tr>\n",
       "      <th>0</th>\n",
       "      <td>-</td>\n",
       "      <td>-1</td>\n",
       "      <td>20140000120677</td>\n",
       "      <td>92317</td>\n",
       "      <td>Arrest</td>\n",
       "      <td>None</td>\n",
       "      <td>7500</td>\n",
       "      <td>1984</td>\n",
       "      <td>M</td>\n",
       "      <td>Black or African American</td>\n",
       "      <td>Asian</td>\n",
       "      <td>Male</td>\n",
       "      <td>2015-10-16T00:00:00</td>\n",
       "      <td>11:32:00</td>\n",
       "      <td>-</td>\n",
       "      <td>-</td>\n",
       "      <td>-</td>\n",
       "      <td>N</td>\n",
       "      <td>N</td>\n",
       "      <td>South</td>\n",
       "      <td>O</td>\n",
       "      <td>O2</td>\n",
       "    </tr>\n",
       "    <tr>\n",
       "      <th>1</th>\n",
       "      <td>-</td>\n",
       "      <td>-1</td>\n",
       "      <td>20150000001670</td>\n",
       "      <td>32260</td>\n",
       "      <td>Field Contact</td>\n",
       "      <td>None</td>\n",
       "      <td>7539</td>\n",
       "      <td>1963</td>\n",
       "      <td>M</td>\n",
       "      <td>White</td>\n",
       "      <td>-</td>\n",
       "      <td>-</td>\n",
       "      <td>2015-04-01T00:00:00</td>\n",
       "      <td>04:55:00</td>\n",
       "      <td>-</td>\n",
       "      <td>-</td>\n",
       "      <td>-</td>\n",
       "      <td>N</td>\n",
       "      <td>N</td>\n",
       "      <td>-</td>\n",
       "      <td>-</td>\n",
       "      <td>-</td>\n",
       "    </tr>\n",
       "    <tr>\n",
       "      <th>2</th>\n",
       "      <td>-</td>\n",
       "      <td>-1</td>\n",
       "      <td>20150000002451</td>\n",
       "      <td>46430</td>\n",
       "      <td>Field Contact</td>\n",
       "      <td>None</td>\n",
       "      <td>7591</td>\n",
       "      <td>1985</td>\n",
       "      <td>M</td>\n",
       "      <td>Hispanic or Latino</td>\n",
       "      <td>-</td>\n",
       "      <td>-</td>\n",
       "      <td>2015-05-25T00:00:00</td>\n",
       "      <td>01:06:00</td>\n",
       "      <td>-</td>\n",
       "      <td>-</td>\n",
       "      <td>-</td>\n",
       "      <td>N</td>\n",
       "      <td>N</td>\n",
       "      <td>-</td>\n",
       "      <td>-</td>\n",
       "      <td>-</td>\n",
       "    </tr>\n",
       "    <tr>\n",
       "      <th>3</th>\n",
       "      <td>-</td>\n",
       "      <td>-1</td>\n",
       "      <td>20150000002815</td>\n",
       "      <td>51725</td>\n",
       "      <td>Field Contact</td>\n",
       "      <td>None</td>\n",
       "      <td>7456</td>\n",
       "      <td>1979</td>\n",
       "      <td>M</td>\n",
       "      <td>White</td>\n",
       "      <td>-</td>\n",
       "      <td>-</td>\n",
       "      <td>2015-06-09T00:00:00</td>\n",
       "      <td>19:27:00</td>\n",
       "      <td>-</td>\n",
       "      <td>-</td>\n",
       "      <td>-</td>\n",
       "      <td>N</td>\n",
       "      <td>N</td>\n",
       "      <td>-</td>\n",
       "      <td>-</td>\n",
       "      <td>-</td>\n",
       "    </tr>\n",
       "    <tr>\n",
       "      <th>4</th>\n",
       "      <td>-</td>\n",
       "      <td>-1</td>\n",
       "      <td>20150000002815</td>\n",
       "      <td>51727</td>\n",
       "      <td>Field Contact</td>\n",
       "      <td>None</td>\n",
       "      <td>7456</td>\n",
       "      <td>1979</td>\n",
       "      <td>M</td>\n",
       "      <td>White</td>\n",
       "      <td>-</td>\n",
       "      <td>-</td>\n",
       "      <td>2015-06-09T00:00:00</td>\n",
       "      <td>19:32:00</td>\n",
       "      <td>-</td>\n",
       "      <td>-</td>\n",
       "      <td>-</td>\n",
       "      <td>N</td>\n",
       "      <td>N</td>\n",
       "      <td>-</td>\n",
       "      <td>-</td>\n",
       "      <td>-</td>\n",
       "    </tr>\n",
       "    <tr>\n",
       "      <th>5</th>\n",
       "      <td>-</td>\n",
       "      <td>-1</td>\n",
       "      <td>20150000002833</td>\n",
       "      <td>52168</td>\n",
       "      <td>Field Contact</td>\n",
       "      <td>None</td>\n",
       "      <td>5966</td>\n",
       "      <td>1969</td>\n",
       "      <td>M</td>\n",
       "      <td>White</td>\n",
       "      <td>American Indian or Alaska Native</td>\n",
       "      <td>Male</td>\n",
       "      <td>2015-06-11T00:00:00</td>\n",
       "      <td>01:25:00</td>\n",
       "      <td>-</td>\n",
       "      <td>-</td>\n",
       "      <td>-</td>\n",
       "      <td>N</td>\n",
       "      <td>N</td>\n",
       "      <td>-</td>\n",
       "      <td>-</td>\n",
       "      <td>-</td>\n",
       "    </tr>\n",
       "    <tr>\n",
       "      <th>6</th>\n",
       "      <td>-</td>\n",
       "      <td>-1</td>\n",
       "      <td>20150000002856</td>\n",
       "      <td>52559</td>\n",
       "      <td>Field Contact</td>\n",
       "      <td>None</td>\n",
       "      <td>7500</td>\n",
       "      <td>1984</td>\n",
       "      <td>M</td>\n",
       "      <td>Black or African American</td>\n",
       "      <td>Unknown</td>\n",
       "      <td>Unable to Determine</td>\n",
       "      <td>2015-06-12T00:00:00</td>\n",
       "      <td>04:44:00</td>\n",
       "      <td>-</td>\n",
       "      <td>-</td>\n",
       "      <td>-</td>\n",
       "      <td>N</td>\n",
       "      <td>N</td>\n",
       "      <td>-</td>\n",
       "      <td>-</td>\n",
       "      <td>-</td>\n",
       "    </tr>\n",
       "    <tr>\n",
       "      <th>7</th>\n",
       "      <td>-</td>\n",
       "      <td>-1</td>\n",
       "      <td>20150000002870</td>\n",
       "      <td>52057</td>\n",
       "      <td>Field Contact</td>\n",
       "      <td>None</td>\n",
       "      <td>7592</td>\n",
       "      <td>1983</td>\n",
       "      <td>M</td>\n",
       "      <td>White</td>\n",
       "      <td>Unknown</td>\n",
       "      <td>Unable to Determine</td>\n",
       "      <td>2015-06-12T00:00:00</td>\n",
       "      <td>14:32:00</td>\n",
       "      <td>-</td>\n",
       "      <td>-</td>\n",
       "      <td>-</td>\n",
       "      <td>N</td>\n",
       "      <td>N</td>\n",
       "      <td>-</td>\n",
       "      <td>-</td>\n",
       "      <td>-</td>\n",
       "    </tr>\n",
       "    <tr>\n",
       "      <th>8</th>\n",
       "      <td>-</td>\n",
       "      <td>-1</td>\n",
       "      <td>20150000003188</td>\n",
       "      <td>57803</td>\n",
       "      <td>Citation / Infraction</td>\n",
       "      <td>None</td>\n",
       "      <td>7582</td>\n",
       "      <td>1966</td>\n",
       "      <td>M</td>\n",
       "      <td>Hispanic or Latino</td>\n",
       "      <td>Unknown</td>\n",
       "      <td>Unable to Determine</td>\n",
       "      <td>2015-06-27T00:00:00</td>\n",
       "      <td>05:12:00</td>\n",
       "      <td>-</td>\n",
       "      <td>-</td>\n",
       "      <td>-</td>\n",
       "      <td>N</td>\n",
       "      <td>N</td>\n",
       "      <td>-</td>\n",
       "      <td>-</td>\n",
       "      <td>-</td>\n",
       "    </tr>\n",
       "    <tr>\n",
       "      <th>9</th>\n",
       "      <td>-</td>\n",
       "      <td>-1</td>\n",
       "      <td>20150000003315</td>\n",
       "      <td>59686</td>\n",
       "      <td>Field Contact</td>\n",
       "      <td>None</td>\n",
       "      <td>6417</td>\n",
       "      <td>1973</td>\n",
       "      <td>M</td>\n",
       "      <td>White</td>\n",
       "      <td>-</td>\n",
       "      <td>Male</td>\n",
       "      <td>2015-07-02T00:00:00</td>\n",
       "      <td>00:25:00</td>\n",
       "      <td>-</td>\n",
       "      <td>-</td>\n",
       "      <td>-</td>\n",
       "      <td>N</td>\n",
       "      <td>N</td>\n",
       "      <td>-</td>\n",
       "      <td>-</td>\n",
       "      <td>-</td>\n",
       "    </tr>\n",
       "  </tbody>\n",
       "</table>\n",
       "</div>"
      ],
      "text/plain": [
       "  Subject Age Group  Subject ID     GO / SC Num  Terry Stop ID  \\\n",
       "0                 -          -1  20140000120677          92317   \n",
       "1                 -          -1  20150000001670          32260   \n",
       "2                 -          -1  20150000002451          46430   \n",
       "3                 -          -1  20150000002815          51725   \n",
       "4                 -          -1  20150000002815          51727   \n",
       "5                 -          -1  20150000002833          52168   \n",
       "6                 -          -1  20150000002856          52559   \n",
       "7                 -          -1  20150000002870          52057   \n",
       "8                 -          -1  20150000003188          57803   \n",
       "9                 -          -1  20150000003315          59686   \n",
       "\n",
       "         Stop Resolution Weapon Type Officer ID  Officer YOB Officer Gender  \\\n",
       "0                 Arrest        None     7500           1984              M   \n",
       "1          Field Contact        None     7539           1963              M   \n",
       "2          Field Contact        None     7591           1985              M   \n",
       "3          Field Contact        None     7456           1979              M   \n",
       "4          Field Contact        None     7456           1979              M   \n",
       "5          Field Contact        None     5966           1969              M   \n",
       "6          Field Contact        None     7500           1984              M   \n",
       "7          Field Contact        None     7592           1983              M   \n",
       "8  Citation / Infraction        None     7582           1966              M   \n",
       "9          Field Contact        None     6417           1973              M   \n",
       "\n",
       "                Officer Race            Subject Perceived Race  \\\n",
       "0  Black or African American                             Asian   \n",
       "1                      White                                 -   \n",
       "2         Hispanic or Latino                                 -   \n",
       "3                      White                                 -   \n",
       "4                      White                                 -   \n",
       "5                      White  American Indian or Alaska Native   \n",
       "6  Black or African American                           Unknown   \n",
       "7                      White                           Unknown   \n",
       "8         Hispanic or Latino                           Unknown   \n",
       "9                      White                                 -   \n",
       "\n",
       "  Subject Perceived Gender        Reported Date Reported Time  \\\n",
       "0                     Male  2015-10-16T00:00:00      11:32:00   \n",
       "1                        -  2015-04-01T00:00:00      04:55:00   \n",
       "2                        -  2015-05-25T00:00:00      01:06:00   \n",
       "3                        -  2015-06-09T00:00:00      19:27:00   \n",
       "4                        -  2015-06-09T00:00:00      19:32:00   \n",
       "5                     Male  2015-06-11T00:00:00      01:25:00   \n",
       "6      Unable to Determine  2015-06-12T00:00:00      04:44:00   \n",
       "7      Unable to Determine  2015-06-12T00:00:00      14:32:00   \n",
       "8      Unable to Determine  2015-06-27T00:00:00      05:12:00   \n",
       "9                     Male  2015-07-02T00:00:00      00:25:00   \n",
       "\n",
       "  Initial Call Type Final Call Type Call Type Arrest Flag Frisk Flag Precinct  \\\n",
       "0                 -               -         -           N          N    South   \n",
       "1                 -               -         -           N          N        -   \n",
       "2                 -               -         -           N          N        -   \n",
       "3                 -               -         -           N          N        -   \n",
       "4                 -               -         -           N          N        -   \n",
       "5                 -               -         -           N          N        -   \n",
       "6                 -               -         -           N          N        -   \n",
       "7                 -               -         -           N          N        -   \n",
       "8                 -               -         -           N          N        -   \n",
       "9                 -               -         -           N          N        -   \n",
       "\n",
       "   Sector    Beat  \n",
       "0  O       O2      \n",
       "1       -       -  \n",
       "2       -       -  \n",
       "3       -       -  \n",
       "4       -       -  \n",
       "5       -       -  \n",
       "6       -       -  \n",
       "7       -       -  \n",
       "8       -       -  \n",
       "9       -       -  "
      ]
     },
     "execution_count": 470,
     "metadata": {},
     "output_type": "execute_result"
    }
   ],
   "source": [
    "# Look at the data\n",
    "df.head(10)\n"
   ]
  },
  {
   "cell_type": "code",
   "execution_count": 471,
   "metadata": {},
   "outputs": [
    {
     "name": "stdout",
     "output_type": "stream",
     "text": [
      "<class 'pandas.core.frame.DataFrame'>\n",
      "Int64Index: 40380 entries, 0 to 40388\n",
      "Data columns (total 22 columns):\n",
      " #   Column                    Non-Null Count  Dtype \n",
      "---  ------                    --------------  ----- \n",
      " 0   Subject Age Group         40380 non-null  object\n",
      " 1   Subject ID                40380 non-null  int64 \n",
      " 2   GO / SC Num               40380 non-null  int64 \n",
      " 3   Terry Stop ID             40380 non-null  int64 \n",
      " 4   Stop Resolution           40380 non-null  object\n",
      " 5   Weapon Type               40380 non-null  object\n",
      " 6   Officer ID                40380 non-null  object\n",
      " 7   Officer YOB               40380 non-null  int64 \n",
      " 8   Officer Gender            40380 non-null  object\n",
      " 9   Officer Race              40380 non-null  object\n",
      " 10  Subject Perceived Race    40380 non-null  object\n",
      " 11  Subject Perceived Gender  40380 non-null  object\n",
      " 12  Reported Date             40380 non-null  object\n",
      " 13  Reported Time             40380 non-null  object\n",
      " 14  Initial Call Type         40380 non-null  object\n",
      " 15  Final Call Type           40380 non-null  object\n",
      " 16  Call Type                 40380 non-null  object\n",
      " 17  Arrest Flag               40380 non-null  object\n",
      " 18  Frisk Flag                40380 non-null  object\n",
      " 19  Precinct                  40380 non-null  object\n",
      " 20  Sector                    40380 non-null  object\n",
      " 21  Beat                      40380 non-null  object\n",
      "dtypes: int64(4), object(18)\n",
      "memory usage: 7.1+ MB\n"
     ]
    }
   ],
   "source": [
    "# Look for null values\n",
    "df.info()\n"
   ]
  },
  {
   "cell_type": "code",
   "execution_count": 472,
   "metadata": {},
   "outputs": [
    {
     "data": {
      "text/plain": [
       "Subject Age Group           0\n",
       "Subject ID                  0\n",
       "GO / SC Num                 0\n",
       "Terry Stop ID               0\n",
       "Stop Resolution             0\n",
       "Weapon Type                 0\n",
       "Officer ID                  0\n",
       "Officer YOB                 0\n",
       "Officer Gender              0\n",
       "Officer Race                0\n",
       "Subject Perceived Race      0\n",
       "Subject Perceived Gender    0\n",
       "Reported Date               0\n",
       "Reported Time               0\n",
       "Initial Call Type           0\n",
       "Final Call Type             0\n",
       "Call Type                   0\n",
       "Arrest Flag                 0\n",
       "Frisk Flag                  0\n",
       "Precinct                    0\n",
       "Sector                      0\n",
       "Beat                        0\n",
       "dtype: int64"
      ]
     },
     "execution_count": 472,
     "metadata": {},
     "output_type": "execute_result"
    }
   ],
   "source": [
    "df.isna().sum()"
   ]
  },
  {
   "cell_type": "code",
   "execution_count": 476,
   "metadata": {},
   "outputs": [],
   "source": [
    "# Drop duplicates\n",
    "df = df.drop_duplicates(subset=['Terry Stop ID'], keep='first')"
   ]
  },
  {
   "cell_type": "code",
   "execution_count": 477,
   "metadata": {},
   "outputs": [
    {
     "name": "stdout",
     "output_type": "stream",
     "text": [
      "<class 'pandas.core.frame.DataFrame'>\n",
      "Int64Index: 40380 entries, 0 to 40388\n",
      "Data columns (total 22 columns):\n",
      " #   Column                    Non-Null Count  Dtype \n",
      "---  ------                    --------------  ----- \n",
      " 0   Subject Age Group         40380 non-null  object\n",
      " 1   Subject ID                40380 non-null  int64 \n",
      " 2   GO / SC Num               40380 non-null  int64 \n",
      " 3   Terry Stop ID             40380 non-null  int64 \n",
      " 4   Stop Resolution           40380 non-null  object\n",
      " 5   Weapon Type               40380 non-null  object\n",
      " 6   Officer ID                40380 non-null  object\n",
      " 7   Officer YOB               40380 non-null  int64 \n",
      " 8   Officer Gender            40380 non-null  object\n",
      " 9   Officer Race              40380 non-null  object\n",
      " 10  Subject Perceived Race    40380 non-null  object\n",
      " 11  Subject Perceived Gender  40380 non-null  object\n",
      " 12  Reported Date             40380 non-null  object\n",
      " 13  Reported Time             40380 non-null  object\n",
      " 14  Initial Call Type         40380 non-null  object\n",
      " 15  Final Call Type           40380 non-null  object\n",
      " 16  Call Type                 40380 non-null  object\n",
      " 17  Arrest Flag               40380 non-null  object\n",
      " 18  Frisk Flag                40380 non-null  object\n",
      " 19  Precinct                  40380 non-null  object\n",
      " 20  Sector                    40380 non-null  object\n",
      " 21  Beat                      40380 non-null  object\n",
      "dtypes: int64(4), object(18)\n",
      "memory usage: 7.1+ MB\n"
     ]
    }
   ],
   "source": [
    "df.info()"
   ]
  },
  {
   "cell_type": "code",
   "execution_count": 478,
   "metadata": {},
   "outputs": [
    {
     "data": {
      "text/plain": [
       "array(['-', '1 - 17', '56 and Above', '18 - 25', '26 - 35', '36 - 45',\n",
       "       '46 - 55'], dtype=object)"
      ]
     },
     "execution_count": 478,
     "metadata": {},
     "output_type": "execute_result"
    }
   ],
   "source": [
    "df['Subject Age Group'].unique()"
   ]
  },
  {
   "cell_type": "code",
   "execution_count": 479,
   "metadata": {},
   "outputs": [
    {
     "data": {
      "text/plain": [
       "26 - 35         13386\n",
       "18 - 25          8407\n",
       "36 - 45          8372\n",
       "46 - 55          5165\n",
       "56 and Above     1929\n",
       "1 - 17           1860\n",
       "-                1261\n",
       "Name: Subject Age Group, dtype: int64"
      ]
     },
     "execution_count": 479,
     "metadata": {},
     "output_type": "execute_result"
    }
   ],
   "source": [
    "df['Subject Age Group'].value_counts()"
   ]
  },
  {
   "cell_type": "code",
   "execution_count": 480,
   "metadata": {},
   "outputs": [
    {
     "data": {
      "text/plain": [
       "Subject Age Group           0\n",
       "Subject ID                  0\n",
       "GO / SC Num                 0\n",
       "Terry Stop ID               0\n",
       "Stop Resolution             0\n",
       "Weapon Type                 0\n",
       "Officer ID                  0\n",
       "Officer YOB                 0\n",
       "Officer Gender              0\n",
       "Officer Race                0\n",
       "Subject Perceived Race      0\n",
       "Subject Perceived Gender    0\n",
       "Reported Date               0\n",
       "Reported Time               0\n",
       "Initial Call Type           0\n",
       "Final Call Type             0\n",
       "Call Type                   0\n",
       "Arrest Flag                 0\n",
       "Frisk Flag                  0\n",
       "Precinct                    0\n",
       "Sector                      0\n",
       "Beat                        0\n",
       "dtype: int64"
      ]
     },
     "execution_count": 480,
     "metadata": {},
     "output_type": "execute_result"
    }
   ],
   "source": [
    "df.isna().sum()"
   ]
  },
  {
   "cell_type": "markdown",
   "metadata": {},
   "source": [
    "Our target variable will be the Stop Resolution column. This is becase we aim to see if an arrest was made after a Terry Stop.\n",
    "This is a binary classification problem 1 = Arrest, 0 = No arrest. We will look at the content in the Stop Resolution Column and assign arrest to 1 and the rest as 0. "
   ]
  },
  {
   "cell_type": "code",
   "execution_count": 481,
   "metadata": {},
   "outputs": [
    {
     "data": {
      "text/plain": [
       "array(['Arrest', 'Field Contact', 'Citation / Infraction',\n",
       "       'Offense Report', 'Referred for Prosecution'], dtype=object)"
      ]
     },
     "execution_count": 481,
     "metadata": {},
     "output_type": "execute_result"
    }
   ],
   "source": [
    "# See unique values in Stop Resolution Column\n",
    "df['Stop Resolution'].unique()"
   ]
  },
  {
   "cell_type": "code",
   "execution_count": 482,
   "metadata": {},
   "outputs": [],
   "source": [
    "# Assign 1 to arrest and 0 to the rest\n",
    "df['Stop Resolution'] = df['Stop Resolution'].map({'Arrest': 1, 'Field Contact': 0,'Offense Report': 0,\n",
    "                                                   'Referred for Prosecution': 0,'Citation / Infraction': 0})\n",
    "#df['Stop Resolution'].value_counts()"
   ]
  },
  {
   "cell_type": "markdown",
   "metadata": {},
   "source": [
    "We first change the date column to a datetime formart and also separate the month, and year into separate columns to analyse each individually and get insights from them."
   ]
  },
  {
   "cell_type": "code",
   "execution_count": 483,
   "metadata": {},
   "outputs": [],
   "source": [
    "# Change the date column to datetime so we can work with it. Add in the month as a new column:\n",
    "df['Reported Date'] = pd.to_datetime(df['Reported Date'])\n",
    "df['Month'] = df['Reported Date'].dt.month.map({1:'January',2:'February',3:'March',4:'April',5:'May',6:'June',7:'July'\n",
    "                                               ,8:'August',9:'September',10:'October',11:'November',12:'December'})\n",
    "df['Day'] = df['Reported Date'].dt.day\n",
    "df['Year'] = df['Reported Date'].dt.year"
   ]
  },
  {
   "cell_type": "code",
   "execution_count": 484,
   "metadata": {},
   "outputs": [
    {
     "data": {
      "text/plain": [
       "0         October\n",
       "1           April\n",
       "2             May\n",
       "3            June\n",
       "4            June\n",
       "           ...   \n",
       "40384    December\n",
       "40385    December\n",
       "40386    December\n",
       "40387     January\n",
       "40388    February\n",
       "Name: Month, Length: 40380, dtype: object"
      ]
     },
     "execution_count": 484,
     "metadata": {},
     "output_type": "execute_result"
    }
   ],
   "source": [
    "df['Month']"
   ]
  },
  {
   "cell_type": "markdown",
   "metadata": {},
   "source": [
    "Drop all the columns that are uncessary and will not be used"
   ]
  },
  {
   "cell_type": "code",
   "execution_count": 485,
   "metadata": {},
   "outputs": [
    {
     "data": {
      "text/plain": [
       "Index(['Subject Age Group', 'Subject ID', 'GO / SC Num', 'Terry Stop ID',\n",
       "       'Stop Resolution', 'Weapon Type', 'Officer ID', 'Officer YOB',\n",
       "       'Officer Gender', 'Officer Race', 'Subject Perceived Race',\n",
       "       'Subject Perceived Gender', 'Reported Date', 'Reported Time',\n",
       "       'Initial Call Type', 'Final Call Type', 'Call Type', 'Arrest Flag',\n",
       "       'Frisk Flag', 'Precinct', 'Sector', 'Beat', 'Month', 'Day', 'Year'],\n",
       "      dtype='object')"
      ]
     },
     "execution_count": 485,
     "metadata": {},
     "output_type": "execute_result"
    }
   ],
   "source": [
    "df.columns"
   ]
  },
  {
   "cell_type": "code",
   "execution_count": 486,
   "metadata": {},
   "outputs": [
    {
     "data": {
      "text/html": [
       "<div>\n",
       "<style scoped>\n",
       "    .dataframe tbody tr th:only-of-type {\n",
       "        vertical-align: middle;\n",
       "    }\n",
       "\n",
       "    .dataframe tbody tr th {\n",
       "        vertical-align: top;\n",
       "    }\n",
       "\n",
       "    .dataframe thead th {\n",
       "        text-align: right;\n",
       "    }\n",
       "</style>\n",
       "<table border=\"1\" class=\"dataframe\">\n",
       "  <thead>\n",
       "    <tr style=\"text-align: right;\">\n",
       "      <th></th>\n",
       "      <th>Subject Age Group</th>\n",
       "      <th>Terry Stop ID</th>\n",
       "      <th>Stop Resolution</th>\n",
       "      <th>Weapon Type</th>\n",
       "      <th>Officer Gender</th>\n",
       "      <th>Arrest Flag</th>\n",
       "      <th>Frisk Flag</th>\n",
       "      <th>Precinct</th>\n",
       "      <th>Month</th>\n",
       "      <th>Year</th>\n",
       "    </tr>\n",
       "  </thead>\n",
       "  <tbody>\n",
       "    <tr>\n",
       "      <th>0</th>\n",
       "      <td>-</td>\n",
       "      <td>92317</td>\n",
       "      <td>1</td>\n",
       "      <td>None</td>\n",
       "      <td>M</td>\n",
       "      <td>N</td>\n",
       "      <td>N</td>\n",
       "      <td>South</td>\n",
       "      <td>October</td>\n",
       "      <td>2015</td>\n",
       "    </tr>\n",
       "    <tr>\n",
       "      <th>1</th>\n",
       "      <td>-</td>\n",
       "      <td>32260</td>\n",
       "      <td>0</td>\n",
       "      <td>None</td>\n",
       "      <td>M</td>\n",
       "      <td>N</td>\n",
       "      <td>N</td>\n",
       "      <td>-</td>\n",
       "      <td>April</td>\n",
       "      <td>2015</td>\n",
       "    </tr>\n",
       "    <tr>\n",
       "      <th>2</th>\n",
       "      <td>-</td>\n",
       "      <td>46430</td>\n",
       "      <td>0</td>\n",
       "      <td>None</td>\n",
       "      <td>M</td>\n",
       "      <td>N</td>\n",
       "      <td>N</td>\n",
       "      <td>-</td>\n",
       "      <td>May</td>\n",
       "      <td>2015</td>\n",
       "    </tr>\n",
       "    <tr>\n",
       "      <th>3</th>\n",
       "      <td>-</td>\n",
       "      <td>51725</td>\n",
       "      <td>0</td>\n",
       "      <td>None</td>\n",
       "      <td>M</td>\n",
       "      <td>N</td>\n",
       "      <td>N</td>\n",
       "      <td>-</td>\n",
       "      <td>June</td>\n",
       "      <td>2015</td>\n",
       "    </tr>\n",
       "    <tr>\n",
       "      <th>4</th>\n",
       "      <td>-</td>\n",
       "      <td>51727</td>\n",
       "      <td>0</td>\n",
       "      <td>None</td>\n",
       "      <td>M</td>\n",
       "      <td>N</td>\n",
       "      <td>N</td>\n",
       "      <td>-</td>\n",
       "      <td>June</td>\n",
       "      <td>2015</td>\n",
       "    </tr>\n",
       "  </tbody>\n",
       "</table>\n",
       "</div>"
      ],
      "text/plain": [
       "  Subject Age Group  Terry Stop ID  Stop Resolution Weapon Type  \\\n",
       "0                 -          92317                1        None   \n",
       "1                 -          32260                0        None   \n",
       "2                 -          46430                0        None   \n",
       "3                 -          51725                0        None   \n",
       "4                 -          51727                0        None   \n",
       "\n",
       "  Officer Gender Arrest Flag Frisk Flag Precinct    Month  Year  \n",
       "0              M           N          N    South  October  2015  \n",
       "1              M           N          N        -    April  2015  \n",
       "2              M           N          N        -      May  2015  \n",
       "3              M           N          N        -     June  2015  \n",
       "4              M           N          N        -     June  2015  "
      ]
     },
     "execution_count": 486,
     "metadata": {},
     "output_type": "execute_result"
    }
   ],
   "source": [
    "\n",
    "df.drop(columns=['Subject ID','GO / SC Num','Officer ID','Officer YOB','Officer Race',\n",
    "                'Subject Perceived Gender','Subject Perceived Race','Reported Date','Reported Time','Call Type',\n",
    "                'Sector','Beat','Initial Call Type','Final Call Type','Day', 'Officer YOB'],axis=1, inplace=True)\n",
    "\n",
    "df.head()"
   ]
  },
  {
   "cell_type": "code",
   "execution_count": 487,
   "metadata": {},
   "outputs": [
    {
     "data": {
      "text/plain": [
       "array(['None', 'Non-Firearm', 'Firearm'], dtype=object)"
      ]
     },
     "execution_count": 487,
     "metadata": {},
     "output_type": "execute_result"
    }
   ],
   "source": [
    "# Dealing with the Weapon Type Column\n",
    "df['Weapon Type'] = df['Weapon Type'].map({'Lethal Cutting Instrument': 'Non-Firearm', \n",
    "                                           'Knife/Cutting/Stabbing Instrument': 'Non-Firearm',\n",
    "                                           'Club, Blackjack, Brass Knuckles': 'Non-Firearm',\n",
    "                                           'Blunt Object/Striking Implement': 'Non-Firearm',\n",
    "                                           'Mace/Pepper Spray': 'Non-Firearm', 'Club':'Non-Firearm',\n",
    "                                           'Taser/Stun Gun':'Non-Firearm', 'Blackjack':'Non-Firearm',\n",
    "                                           'Brass Knuckles':'Non-Firearm', 'Fire/Incendiary Device':'Non-Firearm',\n",
    "                                           'Handgun':'Firearm','Firearm Other':'Firearm',\n",
    "                                           'Firearm (unk type)':'Firearm','Firearm':'Firearm',\n",
    "                                           'Other Firearm':'Firearm', 'Rifle':'Firearm','Shotgun':'Firearm',\n",
    "                                           'Automatic Handgun':'Firearm','None':'None','-':'None',\n",
    "                                           'None/Not Applicable':'None'})\n",
    "df['Weapon Type'].unique()"
   ]
  },
  {
   "cell_type": "markdown",
   "metadata": {},
   "source": [
    "# 3. Data Visualisation"
   ]
  },
  {
   "cell_type": "markdown",
   "metadata": {},
   "source": [
    "In this section we will conduct Exploratory Data Analysis, by using data visualisation."
   ]
  },
  {
   "cell_type": "code",
   "execution_count": 488,
   "metadata": {},
   "outputs": [
    {
     "name": "stderr",
     "output_type": "stream",
     "text": [
      "C:\\Users\\Sophi\\anaconda3\\envs\\learn-env\\lib\\site-packages\\seaborn\\_decorators.py:36: FutureWarning: Pass the following variable as a keyword arg: x. From version 0.12, the only valid positional argument will be `data`, and passing other arguments without an explicit keyword will result in an error or misinterpretation.\n",
      "  warnings.warn(\n"
     ]
    },
    {
     "data": {
      "text/plain": [
       "<AxesSubplot:xlabel='Stop Resolution', ylabel='count'>"
      ]
     },
     "execution_count": 488,
     "metadata": {},
     "output_type": "execute_result"
    },
    {
     "data": {
      "image/png": "[encoded data removed]",
      "text/plain": [
       "<Figure size 432x288 with 1 Axes>"
      ]
     },
     "metadata": {
      "needs_background": "light"
     },
     "output_type": "display_data"
    }
   ],
   "source": [
    "# Plot to see how many arrests were made\n",
    "sns.countplot(df['Stop Resolution'])\n",
    "\n"
   ]
  },
  {
   "cell_type": "code",
   "execution_count": 489,
   "metadata": {},
   "outputs": [],
   "source": [
    "# Dealing with subject Percieved gender"
   ]
  },
  {
   "cell_type": "markdown",
   "metadata": {},
   "source": [
    "There were less arrests after the Stop"
   ]
  },
  {
   "cell_type": "code",
   "execution_count": 490,
   "metadata": {},
   "outputs": [
    {
     "data": {
      "text/plain": [
       "<AxesSubplot:xlabel='count', ylabel='Weapon Type'>"
      ]
     },
     "execution_count": 490,
     "metadata": {},
     "output_type": "execute_result"
    },
    {
     "data": {
      "image/png": "[encoded data removed]",
      "text/plain": [
       "<Figure size 432x288 with 1 Axes>"
      ]
     },
     "metadata": {
      "needs_background": "light"
     },
     "output_type": "display_data"
    }
   ],
   "source": [
    "# PLot to see types of weapons the culprits had on them\n",
    "sns.countplot(y = df['Weapon Type'], hue=df['Stop Resolution'])\n"
   ]
  },
  {
   "cell_type": "markdown",
   "metadata": {},
   "source": [
    "There were more arrests of people without any weapon"
   ]
  },
  {
   "cell_type": "code",
   "execution_count": 491,
   "metadata": {},
   "outputs": [],
   "source": [
    "# Plot to see ratio of male to female stopped\n",
    "# sns.countplot(y=df['Subject Perceived Gender'], hue=df['Stop Resolution'])"
   ]
  },
  {
   "cell_type": "markdown",
   "metadata": {},
   "source": [
    "It is more likely for men to be stopped as compared to ladies. There is also a higher chance of getting arrested if you are a man."
   ]
  },
  {
   "cell_type": "code",
   "execution_count": 492,
   "metadata": {},
   "outputs": [
    {
     "data": {
      "text/plain": [
       "<AxesSubplot:xlabel='count', ylabel='Frisk Flag'>"
      ]
     },
     "execution_count": 492,
     "metadata": {},
     "output_type": "execute_result"
    },
    {
     "data": {
      "image/png": "[encoded data removed]",
      "text/plain": [
       "<Figure size 432x288 with 1 Axes>"
      ]
     },
     "metadata": {
      "needs_background": "light"
     },
     "output_type": "display_data"
    }
   ],
   "source": [
    "# Plot Frisk Flag vs Stop Resolution\n",
    "sns.countplot(y=df['Frisk Flag'], hue=df['Stop Resolution'])"
   ]
  },
  {
   "cell_type": "code",
   "execution_count": 493,
   "metadata": {},
   "outputs": [
    {
     "data": {
      "text/plain": [
       "<AxesSubplot:xlabel='count', ylabel='Arrest Flag'>"
      ]
     },
     "execution_count": 493,
     "metadata": {},
     "output_type": "execute_result"
    },
    {
     "data": {
      "image/png": "[encoded data removed]",
      "text/plain": [
       "<Figure size 432x288 with 1 Axes>"
      ]
     },
     "metadata": {
      "needs_background": "light"
     },
     "output_type": "display_data"
    }
   ],
   "source": [
    "# Plot Arrest Flag vs Stop Resolution\n",
    "sns.countplot(y=df['Arrest Flag'], hue=df['Stop Resolution'])"
   ]
  },
  {
   "cell_type": "markdown",
   "metadata": {},
   "source": [
    "The is always going to be an arrest later after the Terry stop rather than immediately on the stop"
   ]
  },
  {
   "cell_type": "code",
   "execution_count": 494,
   "metadata": {},
   "outputs": [
    {
     "data": {
      "text/plain": [
       "<AxesSubplot:xlabel='count', ylabel='Year'>"
      ]
     },
     "execution_count": 494,
     "metadata": {},
     "output_type": "execute_result"
    },
    {
     "data": {
      "image/png": "[encoded data removed]",
      "text/plain": [
       "<Figure size 432x288 with 1 Axes>"
      ]
     },
     "metadata": {
      "needs_background": "light"
     },
     "output_type": "display_data"
    }
   ],
   "source": [
    "# Plot Year vs Stop Resolution\n",
    "sns.countplot(y=df['Year'], hue=df['Stop Resolution'])"
   ]
  },
  {
   "cell_type": "code",
   "execution_count": 495,
   "metadata": {},
   "outputs": [
    {
     "data": {
      "text/plain": [
       "<AxesSubplot:xlabel='count', ylabel='Month'>"
      ]
     },
     "execution_count": 495,
     "metadata": {},
     "output_type": "execute_result"
    },
    {
     "data": {
      "image/png": "[encoded data removed]",
      "text/plain": [
       "<Figure size 432x288 with 1 Axes>"
      ]
     },
     "metadata": {
      "needs_background": "light"
     },
     "output_type": "display_data"
    }
   ],
   "source": [
    "# Plot Month vs Stop Resolution\n",
    "sns.countplot(y=df['Month'], hue=df['Stop Resolution'])"
   ]
  },
  {
   "cell_type": "markdown",
   "metadata": {},
   "source": [
    "Let's make a pie chart representing ratio of arrested people"
   ]
  },
  {
   "cell_type": "code",
   "execution_count": 539,
   "metadata": {},
   "outputs": [
    {
     "data": {
      "image/png": "[encoded data removed]",
      "text/plain": [
       "<Figure size 1080x432 with 1 Axes>"
      ]
     },
     "metadata": {},
     "output_type": "display_data"
    }
   ],
   "source": [
    "# Create chart labels and calculate the size of each piece of the pie:\n",
    "labels = 'Arrested', 'Not Arrested'\n",
    "sizes = [df['Stop Resolution'].sum(), (len(df['Stop Resolution'])-df['Stop Resolution'].sum())]\n",
    "explode = (0.1, 0)  \n",
    "fig1, ax1 = plt.subplots(figsize=(15,6))\n",
    "ax1.pie(sizes, explode=explode, colors = ['orange','green'],labels=labels, autopct='%1.1f%%',\n",
    "        shadow=True, startangle=90,textprops={'fontsize': 15})\n",
    "\n",
    "plt.show();"
   ]
  },
  {
   "cell_type": "markdown",
   "metadata": {},
   "source": [
    "# 4. Modeling"
   ]
  },
  {
   "cell_type": "markdown",
   "metadata": {},
   "source": [
    "In this section, we will fit 3 models, a baseline model parametric (logistic Regression) , a non-parametric model (Random Forest) and (Decision Trees)"
   ]
  },
  {
   "cell_type": "code",
   "execution_count": 512,
   "metadata": {},
   "outputs": [],
   "source": [
    "# Define X and Y \n",
    "X = df.drop(columns=['Stop Resolution'], axis=1)\n",
    "y = df['Stop Resolution']\n",
    "\n",
    "# Split into Train and Test Data\n",
    "\n",
    "# We will use 70% of the data as train data\n",
    "X_train, X_test, y_train, y_test = train_test_split(X, y, random_state = 42, test_size = 0.3)"
   ]
  },
  {
   "cell_type": "markdown",
   "metadata": {},
   "source": [
    "## Logistic Regression "
   ]
  },
  {
   "cell_type": "markdown",
   "metadata": {},
   "source": [
    "We will first use a baseline Model, in this case the Logistic Regression Model, to have a comparison point for the other models. "
   ]
  },
  {
   "cell_type": "code",
   "execution_count": 515,
   "metadata": {},
   "outputs": [
    {
     "data": {
      "text/plain": [
       "(3, 7)"
      ]
     },
     "execution_count": 515,
     "metadata": {},
     "output_type": "execute_result"
    }
   ],
   "source": [
    "# creating continuous and categorical lists of columns from df\n",
    "\n",
    "X_train_num = X_train.select_dtypes(np.number)\n",
    "X_train_cat = X_train.select_dtypes('object')\n",
    "len(X_train_num.columns), len(X_train_cat.columns)"
   ]
  },
  {
   "cell_type": "code",
   "execution_count": 529,
   "metadata": {},
   "outputs": [],
   "source": [
    "# define a function that returns best parameters of the model, scores, and confusion matrix plot\n",
    "def evaluate_model(model, X, y):\n",
    "    y_pred = model.predict(X)\n",
    "    \n",
    "    print(f'best parameters: {model.best_params_}')\n",
    "    print('')\n",
    "    print(classification_report(y, y_pred))\n",
    "    \n",
    "    plot_confusion_matrix(model, X, y)"
   ]
  },
  {
   "cell_type": "code",
   "execution_count": 517,
   "metadata": {},
   "outputs": [],
   "source": [
    "#creating the pipeline Innards\n",
    "\n",
    "numerical_pipeline = Pipeline(steps=[\n",
    "    ('ss', StandardScaler())])\n",
    "                \n",
    "categorical_pipeline = Pipeline(steps=[\n",
    "    ('ohe', OneHotEncoder(drop='first',\n",
    "                         sparse=False))])\n",
    "\n",
    "trans = ColumnTransformer(transformers=[('numerical', numerical_pipeline, X_train_num.columns),\n",
    "                                        ('categorical', categorical_pipeline, X_train_cat.columns),])"
   ]
  },
  {
   "cell_type": "code",
   "execution_count": 518,
   "metadata": {},
   "outputs": [],
   "source": [
    "logreg_pipeline = Pipeline(steps=[('trans', trans),('sm',SMOTE()),('logreg', LogisticRegression())])\n",
    "\n",
    "logreg_grid = {'logreg__C': [1, 10], 'logreg__penalty': ['l1', 'l2']}"
   ]
  },
  {
   "cell_type": "code",
   "execution_count": 519,
   "metadata": {},
   "outputs": [
    {
     "name": "stderr",
     "output_type": "stream",
     "text": [
      "C:\\Users\\Sophi\\anaconda3\\envs\\learn-env\\lib\\site-packages\\sklearn\\model_selection\\_validation.py:548: FitFailedWarning: Estimator fit failed. The score on this train-test partition for these parameters will be set to nan. Details: \n",
      "Traceback (most recent call last):\n",
      "  File \"C:\\Users\\Sophi\\anaconda3\\envs\\learn-env\\lib\\site-packages\\sklearn\\model_selection\\_validation.py\", line 531, in _fit_and_score\n",
      "    estimator.fit(X_train, y_train, **fit_params)\n",
      "  File \"C:\\Users\\Sophi\\anaconda3\\envs\\learn-env\\lib\\site-packages\\imblearn\\pipeline.py\", line 281, in fit\n",
      "    self._final_estimator.fit(Xt, yt, **fit_params)\n",
      "  File \"C:\\Users\\Sophi\\anaconda3\\envs\\learn-env\\lib\\site-packages\\sklearn\\linear_model\\_logistic.py\", line 1304, in fit\n",
      "    solver = _check_solver(self.solver, self.penalty, self.dual)\n",
      "  File \"C:\\Users\\Sophi\\anaconda3\\envs\\learn-env\\lib\\site-packages\\sklearn\\linear_model\\_logistic.py\", line 442, in _check_solver\n",
      "    raise ValueError(\"Solver %s supports only 'l2' or 'none' penalties, \"\n",
      "ValueError: Solver lbfgs supports only 'l2' or 'none' penalties, got l1 penalty.\n",
      "\n",
      "  warnings.warn(\"Estimator fit failed. The score on this train-test\"\n",
      "C:\\Users\\Sophi\\anaconda3\\envs\\learn-env\\lib\\site-packages\\sklearn\\model_selection\\_validation.py:548: FitFailedWarning: Estimator fit failed. The score on this train-test partition for these parameters will be set to nan. Details: \n",
      "Traceback (most recent call last):\n",
      "  File \"C:\\Users\\Sophi\\anaconda3\\envs\\learn-env\\lib\\site-packages\\sklearn\\model_selection\\_validation.py\", line 531, in _fit_and_score\n",
      "    estimator.fit(X_train, y_train, **fit_params)\n",
      "  File \"C:\\Users\\Sophi\\anaconda3\\envs\\learn-env\\lib\\site-packages\\imblearn\\pipeline.py\", line 281, in fit\n",
      "    self._final_estimator.fit(Xt, yt, **fit_params)\n",
      "  File \"C:\\Users\\Sophi\\anaconda3\\envs\\learn-env\\lib\\site-packages\\sklearn\\linear_model\\_logistic.py\", line 1304, in fit\n",
      "    solver = _check_solver(self.solver, self.penalty, self.dual)\n",
      "  File \"C:\\Users\\Sophi\\anaconda3\\envs\\learn-env\\lib\\site-packages\\sklearn\\linear_model\\_logistic.py\", line 442, in _check_solver\n",
      "    raise ValueError(\"Solver %s supports only 'l2' or 'none' penalties, \"\n",
      "ValueError: Solver lbfgs supports only 'l2' or 'none' penalties, got l1 penalty.\n",
      "\n",
      "  warnings.warn(\"Estimator fit failed. The score on this train-test\"\n",
      "C:\\Users\\Sophi\\anaconda3\\envs\\learn-env\\lib\\site-packages\\sklearn\\model_selection\\_validation.py:548: FitFailedWarning: Estimator fit failed. The score on this train-test partition for these parameters will be set to nan. Details: \n",
      "Traceback (most recent call last):\n",
      "  File \"C:\\Users\\Sophi\\anaconda3\\envs\\learn-env\\lib\\site-packages\\sklearn\\model_selection\\_validation.py\", line 531, in _fit_and_score\n",
      "    estimator.fit(X_train, y_train, **fit_params)\n",
      "  File \"C:\\Users\\Sophi\\anaconda3\\envs\\learn-env\\lib\\site-packages\\imblearn\\pipeline.py\", line 281, in fit\n",
      "    self._final_estimator.fit(Xt, yt, **fit_params)\n",
      "  File \"C:\\Users\\Sophi\\anaconda3\\envs\\learn-env\\lib\\site-packages\\sklearn\\linear_model\\_logistic.py\", line 1304, in fit\n",
      "    solver = _check_solver(self.solver, self.penalty, self.dual)\n",
      "  File \"C:\\Users\\Sophi\\anaconda3\\envs\\learn-env\\lib\\site-packages\\sklearn\\linear_model\\_logistic.py\", line 442, in _check_solver\n",
      "    raise ValueError(\"Solver %s supports only 'l2' or 'none' penalties, \"\n",
      "ValueError: Solver lbfgs supports only 'l2' or 'none' penalties, got l1 penalty.\n",
      "\n",
      "  warnings.warn(\"Estimator fit failed. The score on this train-test\"\n",
      "C:\\Users\\Sophi\\anaconda3\\envs\\learn-env\\lib\\site-packages\\sklearn\\model_selection\\_validation.py:548: FitFailedWarning: Estimator fit failed. The score on this train-test partition for these parameters will be set to nan. Details: \n",
      "Traceback (most recent call last):\n",
      "  File \"C:\\Users\\Sophi\\anaconda3\\envs\\learn-env\\lib\\site-packages\\sklearn\\model_selection\\_validation.py\", line 531, in _fit_and_score\n",
      "    estimator.fit(X_train, y_train, **fit_params)\n",
      "  File \"C:\\Users\\Sophi\\anaconda3\\envs\\learn-env\\lib\\site-packages\\imblearn\\pipeline.py\", line 281, in fit\n",
      "    self._final_estimator.fit(Xt, yt, **fit_params)\n",
      "  File \"C:\\Users\\Sophi\\anaconda3\\envs\\learn-env\\lib\\site-packages\\sklearn\\linear_model\\_logistic.py\", line 1304, in fit\n",
      "    solver = _check_solver(self.solver, self.penalty, self.dual)\n",
      "  File \"C:\\Users\\Sophi\\anaconda3\\envs\\learn-env\\lib\\site-packages\\sklearn\\linear_model\\_logistic.py\", line 442, in _check_solver\n",
      "    raise ValueError(\"Solver %s supports only 'l2' or 'none' penalties, \"\n",
      "ValueError: Solver lbfgs supports only 'l2' or 'none' penalties, got l1 penalty.\n",
      "\n",
      "  warnings.warn(\"Estimator fit failed. The score on this train-test\"\n",
      "C:\\Users\\Sophi\\anaconda3\\envs\\learn-env\\lib\\site-packages\\sklearn\\model_selection\\_validation.py:548: FitFailedWarning: Estimator fit failed. The score on this train-test partition for these parameters will be set to nan. Details: \n",
      "Traceback (most recent call last):\n",
      "  File \"C:\\Users\\Sophi\\anaconda3\\envs\\learn-env\\lib\\site-packages\\sklearn\\model_selection\\_validation.py\", line 531, in _fit_and_score\n",
      "    estimator.fit(X_train, y_train, **fit_params)\n",
      "  File \"C:\\Users\\Sophi\\anaconda3\\envs\\learn-env\\lib\\site-packages\\imblearn\\pipeline.py\", line 281, in fit\n",
      "    self._final_estimator.fit(Xt, yt, **fit_params)\n",
      "  File \"C:\\Users\\Sophi\\anaconda3\\envs\\learn-env\\lib\\site-packages\\sklearn\\linear_model\\_logistic.py\", line 1304, in fit\n",
      "    solver = _check_solver(self.solver, self.penalty, self.dual)\n",
      "  File \"C:\\Users\\Sophi\\anaconda3\\envs\\learn-env\\lib\\site-packages\\sklearn\\linear_model\\_logistic.py\", line 442, in _check_solver\n",
      "    raise ValueError(\"Solver %s supports only 'l2' or 'none' penalties, \"\n",
      "ValueError: Solver lbfgs supports only 'l2' or 'none' penalties, got l1 penalty.\n",
      "\n",
      "  warnings.warn(\"Estimator fit failed. The score on this train-test\"\n",
      "C:\\Users\\Sophi\\anaconda3\\envs\\learn-env\\lib\\site-packages\\sklearn\\linear_model\\_logistic.py:762: ConvergenceWarning: lbfgs failed to converge (status=1):\n",
      "STOP: TOTAL NO. of ITERATIONS REACHED LIMIT.\n",
      "\n",
      "Increase the number of iterations (max_iter) or scale the data as shown in:\n",
      "    https://scikit-learn.org/stable/modules/preprocessing.html\n",
      "Please also refer to the documentation for alternative solver options:\n",
      "    https://scikit-learn.org/stable/modules/linear_model.html#logistic-regression\n",
      "  n_iter_i = _check_optimize_result(\n",
      "C:\\Users\\Sophi\\anaconda3\\envs\\learn-env\\lib\\site-packages\\sklearn\\linear_model\\_logistic.py:762: ConvergenceWarning: lbfgs failed to converge (status=1):\n",
      "STOP: TOTAL NO. of ITERATIONS REACHED LIMIT.\n",
      "\n",
      "Increase the number of iterations (max_iter) or scale the data as shown in:\n",
      "    https://scikit-learn.org/stable/modules/preprocessing.html\n",
      "Please also refer to the documentation for alternative solver options:\n",
      "    https://scikit-learn.org/stable/modules/linear_model.html#logistic-regression\n",
      "  n_iter_i = _check_optimize_result(\n",
      "C:\\Users\\Sophi\\anaconda3\\envs\\learn-env\\lib\\site-packages\\sklearn\\linear_model\\_logistic.py:762: ConvergenceWarning: lbfgs failed to converge (status=1):\n",
      "STOP: TOTAL NO. of ITERATIONS REACHED LIMIT.\n",
      "\n",
      "Increase the number of iterations (max_iter) or scale the data as shown in:\n",
      "    https://scikit-learn.org/stable/modules/preprocessing.html\n",
      "Please also refer to the documentation for alternative solver options:\n",
      "    https://scikit-learn.org/stable/modules/linear_model.html#logistic-regression\n",
      "  n_iter_i = _check_optimize_result(\n",
      "C:\\Users\\Sophi\\anaconda3\\envs\\learn-env\\lib\\site-packages\\sklearn\\linear_model\\_logistic.py:762: ConvergenceWarning: lbfgs failed to converge (status=1):\n",
      "STOP: TOTAL NO. of ITERATIONS REACHED LIMIT.\n",
      "\n",
      "Increase the number of iterations (max_iter) or scale the data as shown in:\n",
      "    https://scikit-learn.org/stable/modules/preprocessing.html\n",
      "Please also refer to the documentation for alternative solver options:\n",
      "    https://scikit-learn.org/stable/modules/linear_model.html#logistic-regression\n",
      "  n_iter_i = _check_optimize_result(\n",
      "C:\\Users\\Sophi\\anaconda3\\envs\\learn-env\\lib\\site-packages\\sklearn\\linear_model\\_logistic.py:762: ConvergenceWarning: lbfgs failed to converge (status=1):\n",
      "STOP: TOTAL NO. of ITERATIONS REACHED LIMIT.\n",
      "\n",
      "Increase the number of iterations (max_iter) or scale the data as shown in:\n",
      "    https://scikit-learn.org/stable/modules/preprocessing.html\n",
      "Please also refer to the documentation for alternative solver options:\n",
      "    https://scikit-learn.org/stable/modules/linear_model.html#logistic-regression\n",
      "  n_iter_i = _check_optimize_result(\n"
     ]
    },
    {
     "name": "stderr",
     "output_type": "stream",
     "text": [
      "C:\\Users\\Sophi\\anaconda3\\envs\\learn-env\\lib\\site-packages\\sklearn\\model_selection\\_validation.py:548: FitFailedWarning: Estimator fit failed. The score on this train-test partition for these parameters will be set to nan. Details: \n",
      "Traceback (most recent call last):\n",
      "  File \"C:\\Users\\Sophi\\anaconda3\\envs\\learn-env\\lib\\site-packages\\sklearn\\model_selection\\_validation.py\", line 531, in _fit_and_score\n",
      "    estimator.fit(X_train, y_train, **fit_params)\n",
      "  File \"C:\\Users\\Sophi\\anaconda3\\envs\\learn-env\\lib\\site-packages\\imblearn\\pipeline.py\", line 281, in fit\n",
      "    self._final_estimator.fit(Xt, yt, **fit_params)\n",
      "  File \"C:\\Users\\Sophi\\anaconda3\\envs\\learn-env\\lib\\site-packages\\sklearn\\linear_model\\_logistic.py\", line 1304, in fit\n",
      "    solver = _check_solver(self.solver, self.penalty, self.dual)\n",
      "  File \"C:\\Users\\Sophi\\anaconda3\\envs\\learn-env\\lib\\site-packages\\sklearn\\linear_model\\_logistic.py\", line 442, in _check_solver\n",
      "    raise ValueError(\"Solver %s supports only 'l2' or 'none' penalties, \"\n",
      "ValueError: Solver lbfgs supports only 'l2' or 'none' penalties, got l1 penalty.\n",
      "\n",
      "  warnings.warn(\"Estimator fit failed. The score on this train-test\"\n",
      "C:\\Users\\Sophi\\anaconda3\\envs\\learn-env\\lib\\site-packages\\sklearn\\model_selection\\_validation.py:548: FitFailedWarning: Estimator fit failed. The score on this train-test partition for these parameters will be set to nan. Details: \n",
      "Traceback (most recent call last):\n",
      "  File \"C:\\Users\\Sophi\\anaconda3\\envs\\learn-env\\lib\\site-packages\\sklearn\\model_selection\\_validation.py\", line 531, in _fit_and_score\n",
      "    estimator.fit(X_train, y_train, **fit_params)\n",
      "  File \"C:\\Users\\Sophi\\anaconda3\\envs\\learn-env\\lib\\site-packages\\imblearn\\pipeline.py\", line 281, in fit\n",
      "    self._final_estimator.fit(Xt, yt, **fit_params)\n",
      "  File \"C:\\Users\\Sophi\\anaconda3\\envs\\learn-env\\lib\\site-packages\\sklearn\\linear_model\\_logistic.py\", line 1304, in fit\n",
      "    solver = _check_solver(self.solver, self.penalty, self.dual)\n",
      "  File \"C:\\Users\\Sophi\\anaconda3\\envs\\learn-env\\lib\\site-packages\\sklearn\\linear_model\\_logistic.py\", line 442, in _check_solver\n",
      "    raise ValueError(\"Solver %s supports only 'l2' or 'none' penalties, \"\n",
      "ValueError: Solver lbfgs supports only 'l2' or 'none' penalties, got l1 penalty.\n",
      "\n",
      "  warnings.warn(\"Estimator fit failed. The score on this train-test\"\n",
      "C:\\Users\\Sophi\\anaconda3\\envs\\learn-env\\lib\\site-packages\\sklearn\\model_selection\\_validation.py:548: FitFailedWarning: Estimator fit failed. The score on this train-test partition for these parameters will be set to nan. Details: \n",
      "Traceback (most recent call last):\n",
      "  File \"C:\\Users\\Sophi\\anaconda3\\envs\\learn-env\\lib\\site-packages\\sklearn\\model_selection\\_validation.py\", line 531, in _fit_and_score\n",
      "    estimator.fit(X_train, y_train, **fit_params)\n",
      "  File \"C:\\Users\\Sophi\\anaconda3\\envs\\learn-env\\lib\\site-packages\\imblearn\\pipeline.py\", line 281, in fit\n",
      "    self._final_estimator.fit(Xt, yt, **fit_params)\n",
      "  File \"C:\\Users\\Sophi\\anaconda3\\envs\\learn-env\\lib\\site-packages\\sklearn\\linear_model\\_logistic.py\", line 1304, in fit\n",
      "    solver = _check_solver(self.solver, self.penalty, self.dual)\n",
      "  File \"C:\\Users\\Sophi\\anaconda3\\envs\\learn-env\\lib\\site-packages\\sklearn\\linear_model\\_logistic.py\", line 442, in _check_solver\n",
      "    raise ValueError(\"Solver %s supports only 'l2' or 'none' penalties, \"\n",
      "ValueError: Solver lbfgs supports only 'l2' or 'none' penalties, got l1 penalty.\n",
      "\n",
      "  warnings.warn(\"Estimator fit failed. The score on this train-test\"\n",
      "C:\\Users\\Sophi\\anaconda3\\envs\\learn-env\\lib\\site-packages\\sklearn\\model_selection\\_validation.py:548: FitFailedWarning: Estimator fit failed. The score on this train-test partition for these parameters will be set to nan. Details: \n",
      "Traceback (most recent call last):\n",
      "  File \"C:\\Users\\Sophi\\anaconda3\\envs\\learn-env\\lib\\site-packages\\sklearn\\model_selection\\_validation.py\", line 531, in _fit_and_score\n",
      "    estimator.fit(X_train, y_train, **fit_params)\n",
      "  File \"C:\\Users\\Sophi\\anaconda3\\envs\\learn-env\\lib\\site-packages\\imblearn\\pipeline.py\", line 281, in fit\n",
      "    self._final_estimator.fit(Xt, yt, **fit_params)\n",
      "  File \"C:\\Users\\Sophi\\anaconda3\\envs\\learn-env\\lib\\site-packages\\sklearn\\linear_model\\_logistic.py\", line 1304, in fit\n",
      "    solver = _check_solver(self.solver, self.penalty, self.dual)\n",
      "  File \"C:\\Users\\Sophi\\anaconda3\\envs\\learn-env\\lib\\site-packages\\sklearn\\linear_model\\_logistic.py\", line 442, in _check_solver\n",
      "    raise ValueError(\"Solver %s supports only 'l2' or 'none' penalties, \"\n",
      "ValueError: Solver lbfgs supports only 'l2' or 'none' penalties, got l1 penalty.\n",
      "\n",
      "  warnings.warn(\"Estimator fit failed. The score on this train-test\"\n",
      "C:\\Users\\Sophi\\anaconda3\\envs\\learn-env\\lib\\site-packages\\sklearn\\model_selection\\_validation.py:548: FitFailedWarning: Estimator fit failed. The score on this train-test partition for these parameters will be set to nan. Details: \n",
      "Traceback (most recent call last):\n",
      "  File \"C:\\Users\\Sophi\\anaconda3\\envs\\learn-env\\lib\\site-packages\\sklearn\\model_selection\\_validation.py\", line 531, in _fit_and_score\n",
      "    estimator.fit(X_train, y_train, **fit_params)\n",
      "  File \"C:\\Users\\Sophi\\anaconda3\\envs\\learn-env\\lib\\site-packages\\imblearn\\pipeline.py\", line 281, in fit\n",
      "    self._final_estimator.fit(Xt, yt, **fit_params)\n",
      "  File \"C:\\Users\\Sophi\\anaconda3\\envs\\learn-env\\lib\\site-packages\\sklearn\\linear_model\\_logistic.py\", line 1304, in fit\n",
      "    solver = _check_solver(self.solver, self.penalty, self.dual)\n",
      "  File \"C:\\Users\\Sophi\\anaconda3\\envs\\learn-env\\lib\\site-packages\\sklearn\\linear_model\\_logistic.py\", line 442, in _check_solver\n",
      "    raise ValueError(\"Solver %s supports only 'l2' or 'none' penalties, \"\n",
      "ValueError: Solver lbfgs supports only 'l2' or 'none' penalties, got l1 penalty.\n",
      "\n",
      "  warnings.warn(\"Estimator fit failed. The score on this train-test\"\n",
      "C:\\Users\\Sophi\\anaconda3\\envs\\learn-env\\lib\\site-packages\\sklearn\\linear_model\\_logistic.py:762: ConvergenceWarning: lbfgs failed to converge (status=1):\n",
      "STOP: TOTAL NO. of ITERATIONS REACHED LIMIT.\n",
      "\n",
      "Increase the number of iterations (max_iter) or scale the data as shown in:\n",
      "    https://scikit-learn.org/stable/modules/preprocessing.html\n",
      "Please also refer to the documentation for alternative solver options:\n",
      "    https://scikit-learn.org/stable/modules/linear_model.html#logistic-regression\n",
      "  n_iter_i = _check_optimize_result(\n",
      "C:\\Users\\Sophi\\anaconda3\\envs\\learn-env\\lib\\site-packages\\sklearn\\linear_model\\_logistic.py:762: ConvergenceWarning: lbfgs failed to converge (status=1):\n",
      "STOP: TOTAL NO. of ITERATIONS REACHED LIMIT.\n",
      "\n",
      "Increase the number of iterations (max_iter) or scale the data as shown in:\n",
      "    https://scikit-learn.org/stable/modules/preprocessing.html\n",
      "Please also refer to the documentation for alternative solver options:\n",
      "    https://scikit-learn.org/stable/modules/linear_model.html#logistic-regression\n",
      "  n_iter_i = _check_optimize_result(\n",
      "C:\\Users\\Sophi\\anaconda3\\envs\\learn-env\\lib\\site-packages\\sklearn\\linear_model\\_logistic.py:762: ConvergenceWarning: lbfgs failed to converge (status=1):\n",
      "STOP: TOTAL NO. of ITERATIONS REACHED LIMIT.\n",
      "\n",
      "Increase the number of iterations (max_iter) or scale the data as shown in:\n",
      "    https://scikit-learn.org/stable/modules/preprocessing.html\n",
      "Please also refer to the documentation for alternative solver options:\n",
      "    https://scikit-learn.org/stable/modules/linear_model.html#logistic-regression\n",
      "  n_iter_i = _check_optimize_result(\n",
      "C:\\Users\\Sophi\\anaconda3\\envs\\learn-env\\lib\\site-packages\\sklearn\\linear_model\\_logistic.py:762: ConvergenceWarning: lbfgs failed to converge (status=1):\n",
      "STOP: TOTAL NO. of ITERATIONS REACHED LIMIT.\n",
      "\n",
      "Increase the number of iterations (max_iter) or scale the data as shown in:\n",
      "    https://scikit-learn.org/stable/modules/preprocessing.html\n",
      "Please also refer to the documentation for alternative solver options:\n",
      "    https://scikit-learn.org/stable/modules/linear_model.html#logistic-regression\n",
      "  n_iter_i = _check_optimize_result(\n",
      "C:\\Users\\Sophi\\anaconda3\\envs\\learn-env\\lib\\site-packages\\sklearn\\linear_model\\_logistic.py:762: ConvergenceWarning: lbfgs failed to converge (status=1):\n",
      "STOP: TOTAL NO. of ITERATIONS REACHED LIMIT.\n",
      "\n",
      "Increase the number of iterations (max_iter) or scale the data as shown in:\n",
      "    https://scikit-learn.org/stable/modules/preprocessing.html\n",
      "Please also refer to the documentation for alternative solver options:\n",
      "    https://scikit-learn.org/stable/modules/linear_model.html#logistic-regression\n",
      "  n_iter_i = _check_optimize_result(\n"
     ]
    },
    {
     "name": "stderr",
     "output_type": "stream",
     "text": [
      "C:\\Users\\Sophi\\anaconda3\\envs\\learn-env\\lib\\site-packages\\sklearn\\linear_model\\_logistic.py:762: ConvergenceWarning: lbfgs failed to converge (status=1):\n",
      "STOP: TOTAL NO. of ITERATIONS REACHED LIMIT.\n",
      "\n",
      "Increase the number of iterations (max_iter) or scale the data as shown in:\n",
      "    https://scikit-learn.org/stable/modules/preprocessing.html\n",
      "Please also refer to the documentation for alternative solver options:\n",
      "    https://scikit-learn.org/stable/modules/linear_model.html#logistic-regression\n",
      "  n_iter_i = _check_optimize_result(\n"
     ]
    },
    {
     "data": {
      "text/plain": [
       "GridSearchCV(estimator=Pipeline(steps=[('trans',\n",
       "                                        ColumnTransformer(transformers=[('numerical',\n",
       "                                                                         Pipeline(steps=[('ss',\n",
       "                                                                                          StandardScaler())]),\n",
       "                                                                         Index(['index', 'Terry Stop ID', 'Year'], dtype='object')),\n",
       "                                                                        ('categorical',\n",
       "                                                                         Pipeline(steps=[('ohe',\n",
       "                                                                                          OneHotEncoder(drop='first',\n",
       "                                                                                                        sparse=False))]),\n",
       "                                                                         Index(['Subject Age Group', 'Weapon Type', 'Officer Gender', 'Arrest Flag',\n",
       "       'Frisk Flag', 'Precinct', 'Month'],\n",
       "      dtype='object'))])),\n",
       "                                       ('sm', SMOTE()),\n",
       "                                       ('logreg', LogisticRegression())]),\n",
       "             param_grid={'logreg__C': [1, 10], 'logreg__penalty': ['l1', 'l2']})"
      ]
     },
     "execution_count": 519,
     "metadata": {},
     "output_type": "execute_result"
    }
   ],
   "source": [
    "logreg_gs = GridSearchCV(estimator=logreg_pipeline, param_grid=logreg_grid)\n",
    "\n",
    "logreg_gs.fit(X_train, y_train)"
   ]
  },
  {
   "cell_type": "code",
   "execution_count": 520,
   "metadata": {
    "scrolled": true
   },
   "outputs": [
    {
     "name": "stdout",
     "output_type": "stream",
     "text": [
      "\n",
      "Finite?  False\n",
      "\n",
      "Finite?  False\n"
     ]
    }
   ],
   "source": [
    "print(\"\\nFinite? \", np.isfinite(np.inf))\n",
    "print(\"\\nFinite? \", np.isfinite(np.NINF))"
   ]
  },
  {
   "cell_type": "code",
   "execution_count": null,
   "metadata": {},
   "outputs": [],
   "source": [
    "logreg_model_train_score = evaluate_model(logreg_gs, X_train, y_train)"
   ]
  },
  {
   "cell_type": "code",
   "execution_count": 392,
   "metadata": {},
   "outputs": [
    {
     "data": {
      "text/plain": [
       "True"
      ]
     },
     "execution_count": 392,
     "metadata": {},
     "output_type": "execute_result"
    }
   ],
   "source": [
    "np.isfinite(1)"
   ]
  },
  {
   "cell_type": "code",
   "execution_count": 508,
   "metadata": {},
   "outputs": [
    {
     "name": "stdout",
     "output_type": "stream",
     "text": [
      "\n",
      "Finite?  True\n",
      "\n",
      "Finite?  True\n"
     ]
    }
   ],
   "source": [
    "# Checking for float\n",
    "print(\"\\nFinite? \", np.isfinite(14.))\n",
    "print(\"\\nFinite? \", np.isfinite(3.6))"
   ]
  },
  {
   "cell_type": "markdown",
   "metadata": {},
   "source": [
    "## Decision Trees"
   ]
  },
  {
   "cell_type": "code",
   "execution_count": 535,
   "metadata": {},
   "outputs": [
    {
     "data": {
      "text/plain": [
       "GridSearchCV(estimator=Pipeline(steps=[('trans',\n",
       "                                        ColumnTransformer(transformers=[('numerical',\n",
       "                                                                         Pipeline(steps=[('ss',\n",
       "                                                                                          StandardScaler())]),\n",
       "                                                                         Index(['index', 'Terry Stop ID', 'Year'], dtype='object')),\n",
       "                                                                        ('categorical',\n",
       "                                                                         Pipeline(steps=[('ohe',\n",
       "                                                                                          OneHotEncoder(drop='first',\n",
       "                                                                                                        sparse=False))]),\n",
       "                                                                         Index(['Subject Age Group', 'Weapon Type', 'Officer Gender', 'Arrest Flag',\n",
       "       'Frisk Flag', 'Precinct', 'Month'],\n",
       "      dtype='object'))])),\n",
       "                                       ('sm', SMOTE()),\n",
       "                                       ('dt', DecisionTreeClassifier())]),\n",
       "             param_grid={'dt__criterion': ['gini', 'entropy'],\n",
       "                         'dt__splitter': ['best', 'random']})"
      ]
     },
     "execution_count": 535,
     "metadata": {},
     "output_type": "execute_result"
    }
   ],
   "source": [
    "dt_pipeline = Pipeline(steps=[('trans', trans),('sm',SMOTE()),('dt', DecisionTreeClassifier())])\n",
    "dt_grid = {'dt__criterion': ['gini', 'entropy'],'dt__splitter': ['best', 'random']}\n",
    "dt_gs = GridSearchCV(estimator=dt_pipeline, param_grid=dt_grid)\n",
    "dt_gs.fit(X_train, y_train)"
   ]
  },
  {
   "cell_type": "code",
   "execution_count": 536,
   "metadata": {},
   "outputs": [
    {
     "name": "stdout",
     "output_type": "stream",
     "text": [
      "best parameters: {'dt__criterion': 'gini', 'dt__splitter': 'random'}\n",
      "\n",
      "              precision    recall  f1-score   support\n",
      "\n",
      "           0       1.00      1.00      1.00     21372\n",
      "           1       1.00      1.00      1.00      6894\n",
      "\n",
      "    accuracy                           1.00     28266\n",
      "   macro avg       1.00      1.00      1.00     28266\n",
      "weighted avg       1.00      1.00      1.00     28266\n",
      "\n"
     ]
    },
    {
     "data": {
      "image/png": "[encoded data removed]",
      "text/plain": [
       "<Figure size 432x288 with 2 Axes>"
      ]
     },
     "metadata": {
      "needs_background": "light"
     },
     "output_type": "display_data"
    }
   ],
   "source": [
    "dt_model_train_score = evaluate_model(dt_gs, X_train, y_train)"
   ]
  },
  {
   "cell_type": "code",
   "execution_count": 537,
   "metadata": {},
   "outputs": [
    {
     "name": "stdout",
     "output_type": "stream",
     "text": [
      "best parameters: {'dt__criterion': 'gini', 'dt__splitter': 'random'}\n",
      "\n",
      "              precision    recall  f1-score   support\n",
      "\n",
      "           0       0.84      0.82      0.83      9179\n",
      "           1       0.48      0.53      0.51      2935\n",
      "\n",
      "    accuracy                           0.75     12114\n",
      "   macro avg       0.66      0.67      0.67     12114\n",
      "weighted avg       0.76      0.75      0.75     12114\n",
      "\n"
     ]
    },
    {
     "data": {
      "image/png": "[encoded data removed]",
      "text/plain": [
       "<Figure size 432x288 with 2 Axes>"
      ]
     },
     "metadata": {
      "needs_background": "light"
     },
     "output_type": "display_data"
    }
   ],
   "source": [
    "dt_model_test_score = evaluate_model(dt_gs, X_test, y_test)"
   ]
  },
  {
   "cell_type": "markdown",
   "metadata": {},
   "source": [
    "This model has better precision, recall, and f1 scores on the train set but not the test set. This means that it has high Variance and is overfitted"
   ]
  },
  {
   "cell_type": "markdown",
   "metadata": {},
   "source": [
    "## Random Forest"
   ]
  },
  {
   "cell_type": "code",
   "execution_count": 521,
   "metadata": {},
   "outputs": [],
   "source": [
    "rf_pipeline = Pipeline(steps=[('trans', trans),('sm',SMOTE()),('rf', RandomForestClassifier())])\n",
    "\n",
    "\n",
    "rf_grid = {'rf__max_depth': [5, 7], 'rf__min_samples_split': [3, 7], 'rf__min_samples_leaf': [1, 3]}"
   ]
  },
  {
   "cell_type": "code",
   "execution_count": 523,
   "metadata": {},
   "outputs": [
    {
     "data": {
      "text/plain": [
       "GridSearchCV(estimator=Pipeline(steps=[('trans',\n",
       "                                        ColumnTransformer(transformers=[('numerical',\n",
       "                                                                         Pipeline(steps=[('ss',\n",
       "                                                                                          StandardScaler())]),\n",
       "                                                                         Index(['index', 'Terry Stop ID', 'Year'], dtype='object')),\n",
       "                                                                        ('categorical',\n",
       "                                                                         Pipeline(steps=[('ohe',\n",
       "                                                                                          OneHotEncoder(drop='first',\n",
       "                                                                                                        sparse=False))]),\n",
       "                                                                         Index(['Subject Age Group', 'Weapon Type', 'Officer Gender', 'Arrest Flag',\n",
       "       'Frisk Flag', 'Precinct', 'Month'],\n",
       "      dtype='object'))])),\n",
       "                                       ('sm', SMOTE()),\n",
       "                                       ('rf', RandomForestClassifier())]),\n",
       "             param_grid={'rf__max_depth': [5, 7],\n",
       "                         'rf__min_samples_leaf': [1, 3],\n",
       "                         'rf__min_samples_split': [3, 7]})"
      ]
     },
     "execution_count": 523,
     "metadata": {},
     "output_type": "execute_result"
    }
   ],
   "source": [
    "rf_gs = GridSearchCV(estimator = rf_pipeline, param_grid = rf_grid)\n",
    "\n",
    "rf_gs.fit(X_train, y_train)"
   ]
  },
  {
   "cell_type": "code",
   "execution_count": 524,
   "metadata": {},
   "outputs": [
    {
     "name": "stdout",
     "output_type": "stream",
     "text": [
      "best parameters: {'rf__max_depth': 7, 'rf__min_samples_leaf': 3, 'rf__min_samples_split': 3}\n",
      "\n",
      "              precision    recall  f1-score   support\n",
      "\n",
      "           0       0.88      0.73      0.80     21372\n",
      "           1       0.45      0.69      0.54      6894\n",
      "\n",
      "    accuracy                           0.72     28266\n",
      "   macro avg       0.66      0.71      0.67     28266\n",
      "weighted avg       0.77      0.72      0.73     28266\n",
      "\n"
     ]
    },
    {
     "data": {
      "image/png": "[encoded data removed]",
      "text/plain": [
       "<Figure size 432x288 with 2 Axes>"
      ]
     },
     "metadata": {
      "needs_background": "light"
     },
     "output_type": "display_data"
    }
   ],
   "source": [
    "rf_train_score = evaluate_model(rf_gs, X_train, y_train)"
   ]
  },
  {
   "cell_type": "code",
   "execution_count": 525,
   "metadata": {},
   "outputs": [
    {
     "name": "stdout",
     "output_type": "stream",
     "text": [
      "best parameters: {'rf__max_depth': 7, 'rf__min_samples_leaf': 3, 'rf__min_samples_split': 3}\n",
      "\n",
      "              precision    recall  f1-score   support\n",
      "\n",
      "           0       0.88      0.73      0.80      9179\n",
      "           1       0.45      0.68      0.54      2935\n",
      "\n",
      "    accuracy                           0.72     12114\n",
      "   macro avg       0.66      0.70      0.67     12114\n",
      "weighted avg       0.77      0.72      0.73     12114\n",
      "\n"
     ]
    },
    {
     "data": {
      "image/png": "[encoded data removed]",
      "text/plain": [
       "<Figure size 432x288 with 2 Axes>"
      ]
     },
     "metadata": {
      "needs_background": "light"
     },
     "output_type": "display_data"
    }
   ],
   "source": [
    "rf_test_score = evaluate_model(rf_gs, X_test, y_test)"
   ]
  },
  {
   "cell_type": "markdown",
   "metadata": {},
   "source": [
    "# Final Model"
   ]
  },
  {
   "cell_type": "markdown",
   "metadata": {},
   "source": [
    "The Best Model is the Random Forest model, that has been pruned. The performance matrices were better compared to the logistic regression and Decision Tree. This is on the test data, which is the data we aim to get higher matrices on."
   ]
  },
  {
   "cell_type": "code",
   "execution_count": 527,
   "metadata": {},
   "outputs": [
    {
     "data": {
      "text/plain": [
       "Pipeline(steps=[('trans',\n",
       "                 ColumnTransformer(transformers=[('numerical',\n",
       "                                                  Pipeline(steps=[('ss',\n",
       "                                                                   StandardScaler())]),\n",
       "                                                  Index(['index', 'Terry Stop ID', 'Year'], dtype='object')),\n",
       "                                                 ('categorical',\n",
       "                                                  Pipeline(steps=[('ohe',\n",
       "                                                                   OneHotEncoder(drop='first',\n",
       "                                                                                 sparse=False))]),\n",
       "                                                  Index(['Subject Age Group', 'Weapon Type', 'Officer Gender', 'Arrest Flag',\n",
       "       'Frisk Flag', 'Precinct', 'Month'],\n",
       "      dtype='object'))])),\n",
       "                ('sm', SMOTE()),\n",
       "                ('rf',\n",
       "                 RandomForestClassifier(max_depth=7, min_samples_leaf=3,\n",
       "                                        min_samples_split=3))])"
      ]
     },
     "execution_count": 527,
     "metadata": {},
     "output_type": "execute_result"
    }
   ],
   "source": [
    "finalModel = rf_gs.best_estimator_\n",
    "finalModel"
   ]
  },
  {
   "cell_type": "code",
   "execution_count": 528,
   "metadata": {},
   "outputs": [
    {
     "name": "stdout",
     "output_type": "stream",
     "text": [
      "best parameters: {'rf__max_depth': 7, 'rf__min_samples_leaf': 3, 'rf__min_samples_split': 3}\n",
      "\n",
      "              precision    recall  f1-score   support\n",
      "\n",
      "           0       0.88      0.73      0.80     21372\n",
      "           1       0.45      0.69      0.54      6894\n",
      "\n",
      "    accuracy                           0.72     28266\n",
      "   macro avg       0.66      0.71      0.67     28266\n",
      "weighted avg       0.77      0.72      0.73     28266\n",
      "\n"
     ]
    },
    {
     "data": {
      "image/png": "[encoded data removed]",
      "text/plain": [
       "<Figure size 432x288 with 2 Axes>"
      ]
     },
     "metadata": {
      "needs_background": "light"
     },
     "output_type": "display_data"
    }
   ],
   "source": [
    "evaluate_model(rf_gs, X_train, y_train)"
   ]
  },
  {
   "cell_type": "code",
   "execution_count": 530,
   "metadata": {},
   "outputs": [
    {
     "name": "stdout",
     "output_type": "stream",
     "text": [
      "best parameters: {'rf__max_depth': 7, 'rf__min_samples_leaf': 3, 'rf__min_samples_split': 3}\n",
      "\n",
      "              precision    recall  f1-score   support\n",
      "\n",
      "           0       0.88      0.73      0.80      9179\n",
      "           1       0.45      0.68      0.54      2935\n",
      "\n",
      "    accuracy                           0.72     12114\n",
      "   macro avg       0.66      0.70      0.67     12114\n",
      "weighted avg       0.77      0.72      0.73     12114\n",
      "\n"
     ]
    },
    {
     "data": {
      "image/png": "[encoded data removed]",
      "text/plain": [
       "<Figure size 432x288 with 2 Axes>"
      ]
     },
     "metadata": {
      "needs_background": "light"
     },
     "output_type": "display_data"
    }
   ],
   "source": [
    "evaluate_model(rf_gs, X_test, y_test)"
   ]
  },
  {
   "cell_type": "markdown",
   "metadata": {},
   "source": [
    "# 5.  Conclusion"
   ]
  },
  {
   "cell_type": "markdown",
   "metadata": {},
   "source": [
    "\n",
    "With the 4 matrices, we would prefer using a Random Forest Model as it has better performance matrix on test data while Decision Trees Model has better performance metrix on train data which shows high Variance\n",
    "Therefore, when using the Random Forest model, we can accurately determine whether or not a Terry Stop ended in an arrest 72% of the time. The most influential features when using the Random Forest model are related to the precinct and if there was an arrest flag. \n",
    "The top 5 features are: \n",
    "    1. Arrest Flag \n",
    "    2. Missing precint \n",
    "    3. West Precinct \n",
    "    5. Frisk Flag given\n",
    "\n",
    "Recommendations:\n",
    "\n",
    "Train officers on when is an appropriate time to arrest someone during the terry stop vs. when it is appropriate to wait until later as this is another key indicator of arrests.\n",
    "Try to capture the officer's precinct for all terry stops to have a better opportunity to predict if an arrest will occur.\n",
    "Train officers on when is an appropriate time to 'frisk' someone as this is another key indicator of arrests.\n",
    "Next Steps:\n",
    "\n",
    "While 72% is decently accurate, there still is room for improvement. Moving forward, I would like to look into further tuning our model, either through cleaning up the data more or through adjusting the model inputs. Additionally, looking into other types of classification models, specifically deep learning models, could also help generate a more accurate model.\n",
    "\n"
   ]
  }
 ],
 "metadata": {
  "kernelspec": {
   "display_name": "Python (learn-env)",
   "language": "python",
   "name": "learn-env"
  },
  "language_info": {
   "codemirror_mode": {
    "name": "ipython",
    "version": 3
   },
   "file_extension": ".py",
   "mimetype": "text/x-python",
   "name": "python",
   "nbconvert_exporter": "python",
   "pygments_lexer": "ipython3",
   "version": "3.8.5"
  }
 },
 "nbformat": 4,
 "nbformat_minor": 4
}
